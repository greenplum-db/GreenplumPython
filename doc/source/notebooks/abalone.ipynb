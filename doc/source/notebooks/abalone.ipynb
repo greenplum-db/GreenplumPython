{
 "cells": [
  {
   "cell_type": "markdown",
   "metadata": {},
   "source": [
    "# Context\n",
    "## Background\n",
    "\n",
    "Predicting the age of abalone from physical measurements.  The age of abalone is determined by cutting the shell through the cone, staining it, and counting the number of rings through a microscope -- a boring and time-consuming task.  Other measurements, which are easier to obtain, are used to predict the age.\n",
    "\n",
    "## Problem\n",
    "\n",
    "Build regression models by sex which can predict the number of rings."
   ]
  },
  {
   "cell_type": "markdown",
   "metadata": {},
   "source": [
    "## Fetch data from the Internet\n",
    "\n",
    "The training data is located on the website. Thanks for Greenplum's [external table](https://docs.vmware.com/en/VMware-Tanzu-Greenplum/6/greenplum-database/GUID-admin_guide-external-g-creating-and-using-web-external-tables.html), accessing CSV data from a HTTP server is easy.\n",
    "\n",
    "First, connect to the database. You may want to change the connect string like `postgresql://<user>@<host>:<port>/<db_name>` to fit your needs."
   ]
  },
  {
   "cell_type": "code",
   "execution_count": 1,
   "metadata": {},
   "outputs": [],
   "source": [
    "%load_ext sql\n",
    "%sql postgresql://localhost/gpadmin"
   ]
  },
  {
   "cell_type": "markdown",
   "metadata": {},
   "source": [
    "Then, create the external table:"
   ]
  },
  {
   "cell_type": "code",
   "execution_count": 2,
   "metadata": {
    "vscode": {
     "languageId": "sql"
    }
   },
   "outputs": [
    {
     "name": "stdout",
     "output_type": "stream",
     "text": [
      " * postgresql://localhost/gpadmin\n",
      "Done.\n",
      "Done.\n"
     ]
    },
    {
     "data": {
      "text/plain": [
       "[]"
      ]
     },
     "execution_count": 2,
     "metadata": {},
     "output_type": "execute_result"
    }
   ],
   "source": [
    "%%sql\n",
    "-- External Table\n",
    "DROP EXTERNAL TABLE IF EXISTS abalone_external;\n",
    "CREATE EXTERNAL WEB TABLE abalone_external(\n",
    "    sex text\n",
    "    , length float8\n",
    "    , diameter float8\n",
    "    , height float8\n",
    "    , whole_weight float8\n",
    "    , shucked_weight float8\n",
    "    , viscera_weight float8\n",
    "    , shell_weight float8\n",
    "    , rings integer -- target variable to predict\n",
    ") EXECUTE 'curl http://archive.ics.uci.edu/ml/machine-learning-databases/abalone/abalone.data'\n",
    "format 'CSV'\n",
    "(null as '?');"
   ]
  },
  {
   "cell_type": "code",
   "execution_count": 3,
   "metadata": {},
   "outputs": [
    {
     "name": "stdout",
     "output_type": "stream",
     "text": [
      " * postgresql://localhost/gpadmin\n",
      "Done.\n",
      "12531 rows affected.\n"
     ]
    },
    {
     "data": {
      "text/plain": [
       "[]"
      ]
     },
     "execution_count": 3,
     "metadata": {},
     "output_type": "execute_result"
    }
   ],
   "source": [
    "%%sql\n",
    "-- Create abalone table from an external table\n",
    "DROP TABLE IF EXISTS abalone;\n",
    "CREATE TABLE abalone AS (\n",
    "    SELECT ROW_NUMBER() OVER() AS id, *\n",
    "    FROM abalone_external\n",
    ") DISTRIBUTED BY (sex);"
   ]
  },
  {
   "cell_type": "markdown",
   "metadata": {},
   "source": [
    "## Train-Test Set Split\n",
    "\n",
    "Before proceeding data exploration, let's split our dataset to train and test set.\n",
    "\n",
    "- Firstly, we fetch a random value between 0 and 1 to each row;\n",
    "- Then we create a percentile table that stores percentile values for each sex;\n",
    "- Finally, we join those 2 tables to obtain our training or test tables.\n",
    "\n",
    "But since Ordered-Set Aggregate Function is not yet supported by the current version, we will skip this step with GreenplumPython and implement it with SQL."
   ]
  },
  {
   "cell_type": "code",
   "execution_count": 4,
   "metadata": {},
   "outputs": [
    {
     "name": "stdout",
     "output_type": "stream",
     "text": [
      " * postgresql://localhost/gpadmin\n",
      "12531 rows affected.\n",
      "3 rows affected.\n",
      "3 rows affected.\n",
      "Done.\n",
      "10026 rows affected.\n",
      "Done.\n",
      "2508 rows affected.\n"
     ]
    },
    {
     "data": {
      "text/plain": [
       "[]"
      ]
     },
     "execution_count": 4,
     "metadata": {},
     "output_type": "execute_result"
    }
   ],
   "source": [
    "%%sql\n",
    "CREATE TEMP TABLE temp_abalone_label AS\n",
    "    (SELECT *, random() AS __samp_out_label FROM abalone);\n",
    "\n",
    "CREATE TEMP TABLE train_percentile_disc AS\n",
    "    (SELECT sex, percentile_disc(0.8) within GROUP (ORDER BY __samp_out_label) AS __samp_out_label\n",
    "    FROM temp_abalone_label GROUP BY sex);\n",
    "CREATE TEMP TABLE test_percentile_disc AS\n",
    "    (SELECT sex, percentile_disc(0.2) within GROUP (ORDER BY __samp_out_label) AS __samp_out_label\n",
    "    FROM temp_abalone_label GROUP BY sex);\n",
    "\n",
    "DROP TABLE IF EXISTS abalone_train;\n",
    "CREATE TABLE abalone_train AS\n",
    "    (SELECT temp_abalone_label.*\n",
    "        FROM temp_abalone_label\n",
    "        INNER JOIN train_percentile_disc\n",
    "        ON temp_abalone_label.__samp_out_label <= train_percentile_disc.__samp_out_label\n",
    "        AND temp_abalone_label.sex = train_percentile_disc.sex\n",
    "    );\n",
    "DROP TABLE IF EXISTS abalone_test;\n",
    "CREATE TABLE abalone_test AS\n",
    "    (SELECT temp_abalone_label.*\n",
    "        FROM temp_abalone_label\n",
    "        INNER JOIN test_percentile_disc\n",
    "        ON temp_abalone_label.__samp_out_label <= test_percentile_disc.__samp_out_label\n",
    "        AND temp_abalone_label.sex = test_percentile_disc.sex\n",
    "    )"
   ]
  },
  {
   "cell_type": "markdown",
   "metadata": {},
   "source": [
    "Note that these features could be supported by GreenplumPython in future release."
   ]
  },
  {
   "cell_type": "markdown",
   "metadata": {},
   "source": [
    "# Import preparation\n",
    "\n",
    "Connect to Greenplum database named `gpadmin`"
   ]
  },
  {
   "cell_type": "code",
   "execution_count": 5,
   "metadata": {},
   "outputs": [],
   "source": [
    "import greenplumpython as gp"
   ]
  },
  {
   "cell_type": "code",
   "execution_count": 6,
   "metadata": {},
   "outputs": [],
   "source": [
    "db = gp.database(\"postgresql://localhost/gpadmin\")"
   ]
  },
  {
   "cell_type": "markdown",
   "metadata": {},
   "source": [
    "# Data Exploration\n",
    "\n",
    "Get access to the existing table `abalone`:"
   ]
  },
  {
   "cell_type": "code",
   "execution_count": 7,
   "metadata": {},
   "outputs": [],
   "source": [
    "abalone = db.create_dataframe(table_name=\"abalone\")"
   ]
  },
  {
   "cell_type": "markdown",
   "metadata": {},
   "source": [
    "Inspect the table:"
   ]
  },
  {
   "cell_type": "code",
   "execution_count": 8,
   "metadata": {},
   "outputs": [
    {
     "data": {
      "text/html": [
       "<table>\n",
       "\t<tr>\n",
       "\t\t<th>id</th>\n",
       "\t\t<th>sex</th>\n",
       "\t\t<th>length</th>\n",
       "\t\t<th>diameter</th>\n",
       "\t\t<th>height</th>\n",
       "\t\t<th>whole_weight</th>\n",
       "\t\t<th>shucked_weight</th>\n",
       "\t\t<th>viscera_weight</th>\n",
       "\t\t<th>shell_weight</th>\n",
       "\t\t<th>rings</th>\n",
       "\t</tr>\n",
       "\t<tr>\n",
       "\t\t<td>1</td>\n",
       "\t\t<td>M</td>\n",
       "\t\t<td>0.455</td>\n",
       "\t\t<td>0.365</td>\n",
       "\t\t<td>0.095</td>\n",
       "\t\t<td>0.514</td>\n",
       "\t\t<td>0.2245</td>\n",
       "\t\t<td>0.101</td>\n",
       "\t\t<td>0.15</td>\n",
       "\t\t<td>15</td>\n",
       "\t</tr>\n",
       "\t<tr>\n",
       "\t\t<td>2</td>\n",
       "\t\t<td>M</td>\n",
       "\t\t<td>0.35</td>\n",
       "\t\t<td>0.265</td>\n",
       "\t\t<td>0.09</td>\n",
       "\t\t<td>0.2255</td>\n",
       "\t\t<td>0.0995</td>\n",
       "\t\t<td>0.0485</td>\n",
       "\t\t<td>0.07</td>\n",
       "\t\t<td>7</td>\n",
       "\t</tr>\n",
       "\t<tr>\n",
       "\t\t<td>3</td>\n",
       "\t\t<td>F</td>\n",
       "\t\t<td>0.53</td>\n",
       "\t\t<td>0.42</td>\n",
       "\t\t<td>0.135</td>\n",
       "\t\t<td>0.677</td>\n",
       "\t\t<td>0.2565</td>\n",
       "\t\t<td>0.1415</td>\n",
       "\t\t<td>0.21</td>\n",
       "\t\t<td>9</td>\n",
       "\t</tr>\n",
       "\t<tr>\n",
       "\t\t<td>4</td>\n",
       "\t\t<td>M</td>\n",
       "\t\t<td>0.44</td>\n",
       "\t\t<td>0.365</td>\n",
       "\t\t<td>0.125</td>\n",
       "\t\t<td>0.516</td>\n",
       "\t\t<td>0.2155</td>\n",
       "\t\t<td>0.114</td>\n",
       "\t\t<td>0.155</td>\n",
       "\t\t<td>10</td>\n",
       "\t</tr>\n",
       "\t<tr>\n",
       "\t\t<td>5</td>\n",
       "\t\t<td>I</td>\n",
       "\t\t<td>0.33</td>\n",
       "\t\t<td>0.255</td>\n",
       "\t\t<td>0.08</td>\n",
       "\t\t<td>0.205</td>\n",
       "\t\t<td>0.0895</td>\n",
       "\t\t<td>0.0395</td>\n",
       "\t\t<td>0.055</td>\n",
       "\t\t<td>7</td>\n",
       "\t</tr>\n",
       "</table>"
      ],
      "text/plain": [
       "---------------------------------------------------------------------------------------------------------------\n",
       " id | sex | length | diameter | height | whole_weight | shucked_weight | viscera_weight | shell_weight | rings \n",
       "----+-----+--------+----------+--------+--------------+----------------+----------------+--------------+-------\n",
       "  1 | M   |  0.455 |    0.365 |  0.095 |        0.514 |         0.2245 |          0.101 |         0.15 |    15 \n",
       "  2 | M   |   0.35 |    0.265 |   0.09 |       0.2255 |         0.0995 |         0.0485 |         0.07 |     7 \n",
       "  3 | F   |   0.53 |     0.42 |  0.135 |        0.677 |         0.2565 |         0.1415 |         0.21 |     9 \n",
       "  4 | M   |   0.44 |    0.365 |  0.125 |        0.516 |         0.2155 |          0.114 |        0.155 |    10 \n",
       "  5 | I   |   0.33 |    0.255 |   0.08 |        0.205 |         0.0895 |         0.0395 |        0.055 |     7 \n",
       "---------------------------------------------------------------------------------------------------------------\n",
       "(5 rows)"
      ]
     },
     "execution_count": 8,
     "metadata": {},
     "output_type": "execute_result"
    }
   ],
   "source": [
    "# SELECT * FROM abalone ORDER BY id LIMIT 5;\n",
    "\n",
    "abalone.order_by(\"id\")[:5]"
   ]
  },
  {
   "cell_type": "markdown",
   "metadata": {},
   "source": [
    "Observe the distribution of data on different segments:"
   ]
  },
  {
   "cell_type": "code",
   "execution_count": 9,
   "metadata": {},
   "outputs": [
    {
     "data": {
      "text/html": [
       "<table>\n",
       "\t<tr>\n",
       "\t\t<th>count</th>\n",
       "\t\t<th>gp_segment_id</th>\n",
       "\t</tr>\n",
       "\t<tr>\n",
       "\t\t<td>3921</td>\n",
       "\t\t<td>2</td>\n",
       "\t</tr>\n",
       "\t<tr>\n",
       "\t\t<td>8610</td>\n",
       "\t\t<td>1</td>\n",
       "\t</tr>\n",
       "</table>"
      ],
      "text/plain": [
       "-----------------------\n",
       " count | gp_segment_id \n",
       "-------+---------------\n",
       "  3921 |             2 \n",
       "  8610 |             1 \n",
       "-----------------------\n",
       "(2 rows)"
      ]
     },
     "execution_count": 9,
     "metadata": {},
     "output_type": "execute_result"
    }
   ],
   "source": [
    "# SELECT gp_segment_id, COUNT(*)\n",
    "# FROM abalone\n",
    "# GROUP BY 1\n",
    "# ORDER BY gp_segment_id;\n",
    "\n",
    "import greenplumpython.builtins.functions as F\n",
    "\n",
    "abalone.group_by(\"gp_segment_id\").apply(lambda _: F.count())"
   ]
  },
  {
   "cell_type": "markdown",
   "metadata": {},
   "source": [
    "Since we already have table `abalone_train` ad `abalone_test` in the database, we can get access to them."
   ]
  },
  {
   "cell_type": "code",
   "execution_count": 10,
   "metadata": {},
   "outputs": [],
   "source": [
    "abalone_train = db.create_dataframe(table_name=\"abalone_train\")\n",
    "abalone_test = db.create_dataframe(table_name=\"abalone_test\")"
   ]
  },
  {
   "cell_type": "markdown",
   "metadata": {},
   "source": [
    "# Execute the OLS Linear Regression Function by 'sex'\n",
    "## Training Process\n",
    "### Creation of training function"
   ]
  },
  {
   "cell_type": "markdown",
   "metadata": {},
   "source": [
    "---\n",
    "\n",
    "\n",
    "**NOTE:** \n",
    "Since the `linreg_func` will be executed on Greenplum Database, all the python dependencies (`scikit-learn`/`numpy`/etc.) needs to be discoverable by the `plpython` extension. Please check [Greenplum PL/Python Language](https://docs.vmware.com/en/VMware-Tanzu-Greenplum/6/greenplum-database/GUID-analytics-pl_python.html) for more information.\n",
    "\n",
    "---"
   ]
  },
  {
   "cell_type": "code",
   "execution_count": 11,
   "metadata": {},
   "outputs": [],
   "source": [
    "from typing import List\n",
    "\n",
    "# CREATE TYPE linreg_type AS (\n",
    "#    col_nm text[]\n",
    "#    , coef float8[]\n",
    "#    , intercept float8\n",
    "#    , serialized_linreg_model bytea\n",
    "#    , created_dt text\n",
    "# );\n",
    "\n",
    "import dataclasses\n",
    "import datetime\n",
    "\n",
    "\n",
    "@dataclasses.dataclass\n",
    "class LinregType:\n",
    "    col_nm: List[str]\n",
    "    coef: List[float]\n",
    "    intercept: float\n",
    "    serialized_linreg_model: bytes\n",
    "    created_dt: str\n",
    "\n",
    "\n",
    "# -- Create function\n",
    "# -- Need to specify the return type -> API will create the corresponding type in Greenplum to return a row\n",
    "# -- Will add argument to change language extensions, currently plpython3u by default\n",
    "\n",
    "from sklearn.linear_model import LinearRegression\n",
    "import numpy as np\n",
    "import pickle\n",
    "\n",
    "@gp.create_column_function\n",
    "def linreg_func(length: List[float], shucked_weight: List[float], rings: List[int]) -> LinregType:\n",
    "    X = np.array([length, shucked_weight]).T\n",
    "    y = np.array([rings]).T\n",
    "\n",
    "    # OLS linear regression with length, shucked_weight\n",
    "    linreg_fit = LinearRegression().fit(X, y)\n",
    "    linreg_coef = linreg_fit.coef_\n",
    "    linreg_intercept = linreg_fit.intercept_\n",
    "\n",
    "    # Serialization of the fitted model\n",
    "    serialized_linreg_model = pickle.dumps(linreg_fit, protocol=3)\n",
    "\n",
    "    return LinregType(\n",
    "        col_nm=[\"length\", \"shucked_weight\"],\n",
    "        coef=linreg_coef[0],\n",
    "        intercept=linreg_intercept[0],\n",
    "        serialized_linreg_model=serialized_linreg_model,\n",
    "        created_dt=str(datetime.datetime.now()),\n",
    "    )"
   ]
  },
  {
   "cell_type": "markdown",
   "metadata": {},
   "source": [
    "### Apply `linreg_fitted` function to our train set"
   ]
  },
  {
   "cell_type": "code",
   "execution_count": 12,
   "metadata": {},
   "outputs": [],
   "source": [
    "# DROP TABLE IF EXISTS plc_linreg_fitted;\n",
    "# CREATE TABLE plc_linreg_fitted AS (\n",
    "#    SELECT\n",
    "#        a.sex\n",
    "#        , (plc_linreg_func(\n",
    "#            a.length_agg\n",
    "#            , a.shucked_weight_agg\n",
    "#            , a.rings_agg)\n",
    "#        ).*\n",
    "#    FROM (\n",
    "#        SELECT\n",
    "#            sex\n",
    "#            , ARRAY_AGG(length) AS length_agg\n",
    "#            , ARRAY_AGG(shucked_weight) AS shucked_weight_agg\n",
    "#            , ARRAY_AGG(rings) AS rings_agg\n",
    "#        FROM abalone_split\n",
    "#        WHERE split = 1\n",
    "#        GROUP BY sex\n",
    "#    ) a\n",
    "# ) DISTRIBUTED BY (sex);\n",
    "\n",
    "linreg_fitted = (\n",
    "    abalone_train.group_by(\"sex\")\n",
    "    .apply(lambda t: linreg_func(t[\"length\"], t[\"shucked_weight\"], t[\"rings\"]), expand=True)\n",
    ")"
   ]
  },
  {
   "cell_type": "markdown",
   "metadata": {},
   "source": [
    "### Take a look at models built"
   ]
  },
  {
   "cell_type": "code",
   "execution_count": 13,
   "metadata": {
    "jupyter": {
     "outputs_hidden": false
    }
   },
   "outputs": [
    {
     "data": {
      "text/html": [
       "<table>\n",
       "\t<tr>\n",
       "\t\t<th>sex</th>\n",
       "\t\t<th>col_nm</th>\n",
       "\t\t<th>coef</th>\n",
       "\t\t<th>intercept</th>\n",
       "\t\t<th>created_dt</th>\n",
       "\t</tr>\n",
       "\t<tr>\n",
       "\t\t<td>F</td>\n",
       "\t\t<td>['length', 'shucked_weight']</td>\n",
       "\t\t<td>[26.1333757720498, -8.81158614246313]</td>\n",
       "\t\t<td>-0.0669153402548819</td>\n",
       "\t\t<td>2023-02-22 20:28:34.610513</td>\n",
       "\t</tr>\n",
       "\t<tr>\n",
       "\t\t<td>I</td>\n",
       "\t\t<td>['length', 'shucked_weight']</td>\n",
       "\t\t<td>[15.2750324852823, 0.431695250916117]</td>\n",
       "\t\t<td>1.24624921435956</td>\n",
       "\t\t<td>2023-02-22 20:28:34.612402</td>\n",
       "\t</tr>\n",
       "\t<tr>\n",
       "\t\t<td>M</td>\n",
       "\t\t<td>['length', 'shucked_weight']</td>\n",
       "\t\t<td>[23.278128903346, -6.44470598430336]</td>\n",
       "\t\t<td>0.401226481131012</td>\n",
       "\t\t<td>2023-02-22 20:28:34.615874</td>\n",
       "\t</tr>\n",
       "</table>"
      ],
      "text/plain": [
       "-------------------------------------------------------------------------------------------------------------------------------\n",
       " sex | col_nm                       | coef                                  | intercept           | created_dt                 \n",
       "-----+------------------------------+---------------------------------------+---------------------+----------------------------\n",
       " F   | ['length', 'shucked_weight'] | [26.1333757720498, -8.81158614246313] | -0.0669153402548819 | 2023-02-22 20:28:34.610513 \n",
       " I   | ['length', 'shucked_weight'] | [15.2750324852823, 0.431695250916117] |    1.24624921435956 | 2023-02-22 20:28:34.612402 \n",
       " M   | ['length', 'shucked_weight'] | [23.278128903346, -6.44470598430336]  |   0.401226481131012 | 2023-02-22 20:28:34.615874 \n",
       "-------------------------------------------------------------------------------------------------------------------------------\n",
       "(3 rows)"
      ]
     },
     "execution_count": 13,
     "metadata": {},
     "output_type": "execute_result"
    }
   ],
   "source": [
    "linreg_fitted[[\"sex\", \"col_nm\", \"coef\", \"intercept\", \"created_dt\"]]"
   ]
  },
  {
   "cell_type": "markdown",
   "metadata": {},
   "source": [
    "### Get summary of parameter's coefficient for three sex"
   ]
  },
  {
   "cell_type": "markdown",
   "metadata": {},
   "source": [
    "\n",
    "Using `ARRAY_APPEND`:"
   ]
  },
  {
   "cell_type": "code",
   "execution_count": 14,
   "metadata": {
    "jupyter": {
     "outputs_hidden": false
    }
   },
   "outputs": [
    {
     "data": {
      "text/html": [
       "<table>\n",
       "\t<tr>\n",
       "\t\t<th>sex</th>\n",
       "\t\t<th>col_nm2</th>\n",
       "\t\t<th>coef2</th>\n",
       "\t</tr>\n",
       "\t<tr>\n",
       "\t\t<td>F</td>\n",
       "\t\t<td>length</td>\n",
       "\t\t<td>26.1333757720498</td>\n",
       "\t</tr>\n",
       "\t<tr>\n",
       "\t\t<td>F</td>\n",
       "\t\t<td>shucked_weight</td>\n",
       "\t\t<td>-8.81158614246313</td>\n",
       "\t</tr>\n",
       "\t<tr>\n",
       "\t\t<td>F</td>\n",
       "\t\t<td>intercept</td>\n",
       "\t\t<td>-0.0669153402548819</td>\n",
       "\t</tr>\n",
       "\t<tr>\n",
       "\t\t<td>I</td>\n",
       "\t\t<td>length</td>\n",
       "\t\t<td>15.2750324852823</td>\n",
       "\t</tr>\n",
       "\t<tr>\n",
       "\t\t<td>I</td>\n",
       "\t\t<td>shucked_weight</td>\n",
       "\t\t<td>0.43169525091612</td>\n",
       "\t</tr>\n",
       "\t<tr>\n",
       "\t\t<td>I</td>\n",
       "\t\t<td>intercept</td>\n",
       "\t\t<td>1.24624921435956</td>\n",
       "\t</tr>\n",
       "\t<tr>\n",
       "\t\t<td>M</td>\n",
       "\t\t<td>length</td>\n",
       "\t\t<td>23.278128903346</td>\n",
       "\t</tr>\n",
       "\t<tr>\n",
       "\t\t<td>M</td>\n",
       "\t\t<td>shucked_weight</td>\n",
       "\t\t<td>-6.44470598430337</td>\n",
       "\t</tr>\n",
       "\t<tr>\n",
       "\t\t<td>M</td>\n",
       "\t\t<td>intercept</td>\n",
       "\t\t<td>0.401226481131008</td>\n",
       "\t</tr>\n",
       "</table>"
      ],
      "text/plain": [
       "--------------------------------------------\n",
       " sex | col_nm2        | coef2               \n",
       "-----+----------------+---------------------\n",
       " F   | length         |    26.1333757720498 \n",
       " F   | shucked_weight |   -8.81158614246313 \n",
       " F   | intercept      | -0.0669153402548819 \n",
       " I   | length         |    15.2750324852823 \n",
       " I   | shucked_weight |    0.43169525091612 \n",
       " I   | intercept      |    1.24624921435956 \n",
       " M   | length         |     23.278128903346 \n",
       " M   | shucked_weight |   -6.44470598430337 \n",
       " M   | intercept      |   0.401226481131008 \n",
       "--------------------------------------------\n",
       "(9 rows)"
      ]
     },
     "execution_count": 14,
     "metadata": {},
     "output_type": "execute_result"
    }
   ],
   "source": [
    "# SELECT\n",
    "#   sex,\n",
    "#   UNNEST(ARRAY_APPEND(col_nm, 'intercept')) AS col_nm2,\n",
    "#   UNNEST(ARRAY_APPEND(coef, intercept)) AS coef2\n",
    "# from linreg_fitted;\n",
    "\n",
    "unnest = gp.function(\"unnest\")\n",
    "array_append = gp.function(\"array_append\")\n",
    "\n",
    "linreg_fitted.assign(\n",
    "    col_nm2=lambda t: unnest(array_append(t[\"col_nm\"], \"intercept\")),\n",
    "    coef2=lambda t: unnest(array_append(t[\"coef\"], t[\"intercept\"])),\n",
    ")[[\"sex\", \"col_nm2\", \"coef2\"]]"
   ]
  },
  {
   "cell_type": "markdown",
   "metadata": {},
   "source": [
    "## Prediction\n",
    "\n",
    "### Creation of prediction function"
   ]
  },
  {
   "cell_type": "code",
   "execution_count": 15,
   "metadata": {},
   "outputs": [],
   "source": [
    "@gp.create_function\n",
    "def linreg_pred_func(serialized_model: bytes, length: float, shucked_weight: float) -> float:\n",
    "    # Deserialize the serialized model\n",
    "    model = pickle.loads(serialized_model)\n",
    "    features = [length, shucked_weight]\n",
    "    # Predict the target variable\n",
    "    y_pred = model.predict([features])\n",
    "    return y_pred[0][0]"
   ]
  },
  {
   "cell_type": "markdown",
   "metadata": {},
   "source": [
    "### Join model dataframe and test set dataframe"
   ]
  },
  {
   "cell_type": "code",
   "execution_count": 16,
   "metadata": {
    "jupyter": {
     "outputs_hidden": false
    }
   },
   "outputs": [],
   "source": [
    "linreg_test_fit = linreg_fitted.inner_join(\n",
    "    abalone_test,\n",
    "    cond=lambda t1, t2: t1[\"sex\"] == t2[\"sex\"],\n",
    "    self_columns=[\"col_nm\", \"coef\", \"intercept\", \"serialized_linreg_model\", \"created_dt\"]\n",
    ")"
   ]
  },
  {
   "cell_type": "markdown",
   "metadata": {},
   "source": [
    "### Predict test set"
   ]
  },
  {
   "cell_type": "code",
   "execution_count": 17,
   "metadata": {},
   "outputs": [],
   "source": [
    "# CREATE TABLE plc_linreg_pred_dot AS (\n",
    "#    SELECT\n",
    "#        test.id\n",
    "#        , test.sex\n",
    "#        , test.rings\n",
    "#        , plc_linreg_pred_dot_func(\n",
    "#            model.coef\n",
    "#            , model.intercept\n",
    "#            , ARRAY[length, shucked_weight]\n",
    "#        ) AS y_pred\n",
    "#    FROM\n",
    "#        (SELECT * FROM abalone_split WHERE split=0) AS test\n",
    "#        , plc_linreg_fitted AS model\n",
    "#    WHERE test.sex = model.sex\n",
    "# ) DISTRIBUTED BY (sex);\n",
    "\n",
    "\n",
    "linreg_pred = linreg_test_fit.assign(\n",
    "    rings_pred=lambda t:\n",
    "        linreg_pred_func(\n",
    "            t[\"serialized_linreg_model\"],\n",
    "            t[\"length\"],\n",
    "            t[\"shucked_weight\"],\n",
    "        ),\n",
    ")[[\"id\", \"sex\", \"rings\", \"rings_pred\"]]"
   ]
  },
  {
   "cell_type": "code",
   "execution_count": 18,
   "metadata": {
    "jupyter": {
     "outputs_hidden": false
    }
   },
   "outputs": [
    {
     "data": {
      "text/html": [
       "<table>\n",
       "\t<tr>\n",
       "\t\t<th>id</th>\n",
       "\t\t<th>sex</th>\n",
       "\t\t<th>rings</th>\n",
       "\t\t<th>rings_pred</th>\n",
       "\t</tr>\n",
       "\t<tr>\n",
       "\t\t<td>70</td>\n",
       "\t\t<td>I</td>\n",
       "\t\t<td>6</td>\n",
       "\t\t<td>6.00870608560479</td>\n",
       "\t</tr>\n",
       "\t<tr>\n",
       "\t\t<td>309</td>\n",
       "\t\t<td>I</td>\n",
       "\t\t<td>8</td>\n",
       "\t\t<td>7.95542678546932</td>\n",
       "\t</tr>\n",
       "\t<tr>\n",
       "\t\t<td>311</td>\n",
       "\t\t<td>I</td>\n",
       "\t\t<td>7</td>\n",
       "\t\t<td>6.95067805452578</td>\n",
       "\t</tr>\n",
       "\t<tr>\n",
       "\t\t<td>336</td>\n",
       "\t\t<td>I</td>\n",
       "\t\t<td>12</td>\n",
       "\t\t<td>8.04561619592505</td>\n",
       "\t</tr>\n",
       "\t<tr>\n",
       "\t\t<td>338</td>\n",
       "\t\t<td>I</td>\n",
       "\t\t<td>1</td>\n",
       "\t\t<td>2.39230834600665</td>\n",
       "\t</tr>\n",
       "</table>"
      ],
      "text/plain": [
       "--------------------------------------\n",
       " id  | sex | rings | rings_pred       \n",
       "-----+-----+-------+------------------\n",
       "  70 | I   |     6 | 6.00870608560479 \n",
       " 309 | I   |     8 | 7.95542678546932 \n",
       " 311 | I   |     7 | 6.95067805452578 \n",
       " 336 | I   |    12 | 8.04561619592505 \n",
       " 338 | I   |     1 | 2.39230834600665 \n",
       "--------------------------------------\n",
       "(5 rows)"
      ]
     },
     "execution_count": 18,
     "metadata": {},
     "output_type": "execute_result"
    }
   ],
   "source": [
    "# SELECT * FROM plc_linreg_pred WHERE sex='I' ORDER BY id LIMIT 5;\n",
    "\n",
    "linreg_pred[lambda t: t[\"sex\"] == \"I\"].order_by(\"id\")[:5]"
   ]
  },
  {
   "cell_type": "markdown",
   "metadata": {},
   "source": [
    "## Evaluation of model\n",
    "\n",
    "### Creation of evaluation return type"
   ]
  },
  {
   "cell_type": "code",
   "execution_count": 19,
   "metadata": {
    "jupyter": {
     "outputs_hidden": false
    }
   },
   "outputs": [],
   "source": [
    "# CREATE TYPE plc_linreg_eval_type AS (\n",
    "#    mae float8\n",
    "#    , mape float8\n",
    "#    , mse float8\n",
    "#    , r2_score float8\n",
    "# );\n",
    "\n",
    "@dataclasses.dataclass\n",
    "class linreg_eval_type:\n",
    "    mae: float\n",
    "    mape: float\n",
    "    mse: float\n",
    "    r2_score: float"
   ]
  },
  {
   "cell_type": "markdown",
   "metadata": {},
   "source": [
    "### Creation of evaluation function"
   ]
  },
  {
   "cell_type": "code",
   "execution_count": 20,
   "metadata": {
    "jupyter": {
     "outputs_hidden": false
    }
   },
   "outputs": [],
   "source": [
    "from sklearn.metrics import mean_absolute_error, mean_squared_error, r2_score\n",
    "\n",
    "@gp.create_column_function\n",
    "def linreg_eval(y_actual: List[float], y_pred: List[float]) -> linreg_eval_type:\n",
    "    mae = mean_absolute_error(y_actual, y_pred)\n",
    "    mse = mean_squared_error(y_actual, y_pred)\n",
    "    r2_score = r2_score(y_actual, y_pred)\n",
    "\n",
    "    y_pred_f = np.array(y_pred, dtype=float)\n",
    "    mape = 100 * sum(abs(y_actual - y_pred_f) / y_actual) / len(y_actual)\n",
    "    return linreg_eval_type(mae, mape, mse, r2_score)"
   ]
  },
  {
   "cell_type": "markdown",
   "metadata": {},
   "source": [
    "### Evaluate our model"
   ]
  },
  {
   "cell_type": "code",
   "execution_count": 21,
   "metadata": {
    "jupyter": {
     "outputs_hidden": false
    }
   },
   "outputs": [
    {
     "ename": "InternalError_",
     "evalue": "UnboundLocalError: local variable 'r2_score' referenced before assignment (plpy_elog.c:121)  (seg1 slice4 127.0.0.1:6003 pid=2187) (plpy_elog.c:121)\nCONTEXT:  Traceback (most recent call last):\n  PL/Python function \"func_d6d73eda8f8a437aa9254f15d267124a\", line 15, in <module>\n    return GD['__func_d6d73eda8f8a437aa9254f15d267124a'](y_actual=y_actual,y_pred=y_pred)\n  PL/Python function \"func_d6d73eda8f8a437aa9254f15d267124a\", line 6, in linreg_eval\nPL/Python function \"func_d6d73eda8f8a437aa9254f15d267124a\"\n",
     "output_type": "error",
     "traceback": [
      "\u001b[0;31m---------------------------------------------------------------------------\u001b[0m",
      "\u001b[0;31mInternalError_\u001b[0m                            Traceback (most recent call last)",
      "File \u001b[0;32m~/.local/lib/python3.9/site-packages/IPython/core/formatters.py:707\u001b[0m, in \u001b[0;36mPlainTextFormatter.__call__\u001b[0;34m(self, obj)\u001b[0m\n\u001b[1;32m    700\u001b[0m stream \u001b[38;5;241m=\u001b[39m StringIO()\n\u001b[1;32m    701\u001b[0m printer \u001b[38;5;241m=\u001b[39m pretty\u001b[38;5;241m.\u001b[39mRepresentationPrinter(stream, \u001b[38;5;28mself\u001b[39m\u001b[38;5;241m.\u001b[39mverbose,\n\u001b[1;32m    702\u001b[0m     \u001b[38;5;28mself\u001b[39m\u001b[38;5;241m.\u001b[39mmax_width, \u001b[38;5;28mself\u001b[39m\u001b[38;5;241m.\u001b[39mnewline,\n\u001b[1;32m    703\u001b[0m     max_seq_length\u001b[38;5;241m=\u001b[39m\u001b[38;5;28mself\u001b[39m\u001b[38;5;241m.\u001b[39mmax_seq_length,\n\u001b[1;32m    704\u001b[0m     singleton_pprinters\u001b[38;5;241m=\u001b[39m\u001b[38;5;28mself\u001b[39m\u001b[38;5;241m.\u001b[39msingleton_printers,\n\u001b[1;32m    705\u001b[0m     type_pprinters\u001b[38;5;241m=\u001b[39m\u001b[38;5;28mself\u001b[39m\u001b[38;5;241m.\u001b[39mtype_printers,\n\u001b[1;32m    706\u001b[0m     deferred_pprinters\u001b[38;5;241m=\u001b[39m\u001b[38;5;28mself\u001b[39m\u001b[38;5;241m.\u001b[39mdeferred_printers)\n\u001b[0;32m--> 707\u001b[0m \u001b[43mprinter\u001b[49m\u001b[38;5;241;43m.\u001b[39;49m\u001b[43mpretty\u001b[49m\u001b[43m(\u001b[49m\u001b[43mobj\u001b[49m\u001b[43m)\u001b[49m\n\u001b[1;32m    708\u001b[0m printer\u001b[38;5;241m.\u001b[39mflush()\n\u001b[1;32m    709\u001b[0m \u001b[38;5;28;01mreturn\u001b[39;00m stream\u001b[38;5;241m.\u001b[39mgetvalue()\n",
      "File \u001b[0;32m~/.local/lib/python3.9/site-packages/IPython/lib/pretty.py:410\u001b[0m, in \u001b[0;36mRepresentationPrinter.pretty\u001b[0;34m(self, obj)\u001b[0m\n\u001b[1;32m    407\u001b[0m                         \u001b[38;5;28;01mreturn\u001b[39;00m meth(obj, \u001b[38;5;28mself\u001b[39m, cycle)\n\u001b[1;32m    408\u001b[0m                 \u001b[38;5;28;01mif\u001b[39;00m \u001b[38;5;28mcls\u001b[39m \u001b[38;5;129;01mis\u001b[39;00m \u001b[38;5;129;01mnot\u001b[39;00m \u001b[38;5;28mobject\u001b[39m \\\n\u001b[1;32m    409\u001b[0m                         \u001b[38;5;129;01mand\u001b[39;00m callable(\u001b[38;5;28mcls\u001b[39m\u001b[38;5;241m.\u001b[39m\u001b[38;5;18m__dict__\u001b[39m\u001b[38;5;241m.\u001b[39mget(\u001b[38;5;124m'\u001b[39m\u001b[38;5;124m__repr__\u001b[39m\u001b[38;5;124m'\u001b[39m)):\n\u001b[0;32m--> 410\u001b[0m                     \u001b[38;5;28;01mreturn\u001b[39;00m \u001b[43m_repr_pprint\u001b[49m\u001b[43m(\u001b[49m\u001b[43mobj\u001b[49m\u001b[43m,\u001b[49m\u001b[43m \u001b[49m\u001b[38;5;28;43mself\u001b[39;49m\u001b[43m,\u001b[49m\u001b[43m \u001b[49m\u001b[43mcycle\u001b[49m\u001b[43m)\u001b[49m\n\u001b[1;32m    412\u001b[0m     \u001b[38;5;28;01mreturn\u001b[39;00m _default_pprint(obj, \u001b[38;5;28mself\u001b[39m, cycle)\n\u001b[1;32m    413\u001b[0m \u001b[38;5;28;01mfinally\u001b[39;00m:\n",
      "File \u001b[0;32m~/.local/lib/python3.9/site-packages/IPython/lib/pretty.py:778\u001b[0m, in \u001b[0;36m_repr_pprint\u001b[0;34m(obj, p, cycle)\u001b[0m\n\u001b[1;32m    776\u001b[0m \u001b[38;5;124;03m\"\"\"A pprint that just redirects to the normal repr function.\"\"\"\u001b[39;00m\n\u001b[1;32m    777\u001b[0m \u001b[38;5;66;03m# Find newlines and replace them with p.break_()\u001b[39;00m\n\u001b[0;32m--> 778\u001b[0m output \u001b[38;5;241m=\u001b[39m \u001b[38;5;28;43mrepr\u001b[39;49m\u001b[43m(\u001b[49m\u001b[43mobj\u001b[49m\u001b[43m)\u001b[49m\n\u001b[1;32m    779\u001b[0m lines \u001b[38;5;241m=\u001b[39m output\u001b[38;5;241m.\u001b[39msplitlines()\n\u001b[1;32m    780\u001b[0m \u001b[38;5;28;01mwith\u001b[39;00m p\u001b[38;5;241m.\u001b[39mgroup():\n",
      "File \u001b[0;32m~/.local/lib/python3.9/site-packages/greenplumpython/dataframe.py:213\u001b[0m, in \u001b[0;36mDataFrame.__repr__\u001b[0;34m(self)\u001b[0m\n\u001b[1;32m    206\u001b[0m \u001b[38;5;28;01mdef\u001b[39;00m \u001b[38;5;21m__repr__\u001b[39m(\u001b[38;5;28mself\u001b[39m) \u001b[38;5;241m-\u001b[39m\u001b[38;5;241m>\u001b[39m \u001b[38;5;28mstr\u001b[39m:\n\u001b[1;32m    207\u001b[0m     \u001b[38;5;66;03m# noqa\u001b[39;00m\n\u001b[1;32m    208\u001b[0m     \u001b[38;5;124;03m\"\"\"\u001b[39;00m\n\u001b[1;32m    209\u001b[0m \u001b[38;5;124;03m    :meta private:\u001b[39;00m\n\u001b[1;32m    210\u001b[0m \n\u001b[1;32m    211\u001b[0m \u001b[38;5;124;03m    Return a string representation for a dataframe\u001b[39;00m\n\u001b[1;32m    212\u001b[0m \u001b[38;5;124;03m    \"\"\"\u001b[39;00m\n\u001b[0;32m--> 213\u001b[0m     contents \u001b[38;5;241m=\u001b[39m \u001b[38;5;28;43mlist\u001b[39;49m\u001b[43m(\u001b[49m\u001b[38;5;28;43mself\u001b[39;49m\u001b[43m)\u001b[49m\n\u001b[1;32m    214\u001b[0m     row_num_string \u001b[38;5;241m=\u001b[39m \u001b[38;5;124mf\u001b[39m\u001b[38;5;124m\"\u001b[39m\u001b[38;5;124m(\u001b[39m\u001b[38;5;132;01m{\u001b[39;00m\u001b[38;5;28mlen\u001b[39m(contents)\u001b[38;5;132;01m}\u001b[39;00m\u001b[38;5;124m row\u001b[39m\u001b[38;5;132;01m{\u001b[39;00m\u001b[38;5;124m'\u001b[39m\u001b[38;5;124ms\u001b[39m\u001b[38;5;124m'\u001b[39m \u001b[38;5;28;01mif\u001b[39;00m \u001b[38;5;28mlen\u001b[39m(contents) \u001b[38;5;241m!=\u001b[39m \u001b[38;5;241m1\u001b[39m \u001b[38;5;28;01melse\u001b[39;00m \u001b[38;5;124m'\u001b[39m\u001b[38;5;124m'\u001b[39m\u001b[38;5;132;01m}\u001b[39;00m\u001b[38;5;124m)\u001b[39m\u001b[38;5;130;01m\\n\u001b[39;00m\u001b[38;5;124m\"\u001b[39m\n\u001b[1;32m    215\u001b[0m     \u001b[38;5;28;01mif\u001b[39;00m \u001b[38;5;28mlen\u001b[39m(contents) \u001b[38;5;241m==\u001b[39m \u001b[38;5;241m0\u001b[39m:  \u001b[38;5;66;03m# DataFrame is empty\u001b[39;00m\n",
      "File \u001b[0;32m~/.local/lib/python3.9/site-packages/greenplumpython/dataframe.py:773\u001b[0m, in \u001b[0;36mDataFrame.__iter__\u001b[0;34m(self)\u001b[0m\n\u001b[1;32m    771\u001b[0m     \u001b[38;5;28;01mreturn\u001b[39;00m DataFrame\u001b[38;5;241m.\u001b[39mIterator(\u001b[38;5;28mself\u001b[39m\u001b[38;5;241m.\u001b[39m_contents)\n\u001b[1;32m    772\u001b[0m \u001b[38;5;28;01massert\u001b[39;00m \u001b[38;5;28mself\u001b[39m\u001b[38;5;241m.\u001b[39m_db \u001b[38;5;129;01mis\u001b[39;00m \u001b[38;5;129;01mnot\u001b[39;00m \u001b[38;5;28;01mNone\u001b[39;00m\n\u001b[0;32m--> 773\u001b[0m \u001b[38;5;28mself\u001b[39m\u001b[38;5;241m.\u001b[39m_contents \u001b[38;5;241m=\u001b[39m \u001b[38;5;28;43mself\u001b[39;49m\u001b[38;5;241;43m.\u001b[39;49m\u001b[43m_fetch\u001b[49m\u001b[43m(\u001b[49m\u001b[43m)\u001b[49m\n\u001b[1;32m    774\u001b[0m \u001b[38;5;28;01massert\u001b[39;00m \u001b[38;5;28mself\u001b[39m\u001b[38;5;241m.\u001b[39m_contents \u001b[38;5;129;01mis\u001b[39;00m \u001b[38;5;129;01mnot\u001b[39;00m \u001b[38;5;28;01mNone\u001b[39;00m\n\u001b[1;32m    775\u001b[0m \u001b[38;5;28;01mreturn\u001b[39;00m DataFrame\u001b[38;5;241m.\u001b[39mIterator(\u001b[38;5;28mself\u001b[39m\u001b[38;5;241m.\u001b[39m_contents)\n",
      "File \u001b[0;32m~/.local/lib/python3.9/site-packages/greenplumpython/dataframe.py:899\u001b[0m, in \u001b[0;36mDataFrame._fetch\u001b[0;34m(self, is_all)\u001b[0m\n\u001b[1;32m    894\u001b[0m qualified_name \u001b[38;5;241m=\u001b[39m \u001b[38;5;124mf\u001b[39m\u001b[38;5;124m'\u001b[39m\u001b[38;5;124m\"\u001b[39m\u001b[38;5;132;01m{\u001b[39;00mname\u001b[38;5;132;01m}\u001b[39;00m\u001b[38;5;124m\"\u001b[39m\u001b[38;5;124m'\u001b[39m \u001b[38;5;28;01mif\u001b[39;00m schema \u001b[38;5;129;01mis\u001b[39;00m \u001b[38;5;28;01mNone\u001b[39;00m \u001b[38;5;28;01melse\u001b[39;00m \u001b[38;5;124mf\u001b[39m\u001b[38;5;124m'\u001b[39m\u001b[38;5;124m\"\u001b[39m\u001b[38;5;132;01m{\u001b[39;00mschema\u001b[38;5;132;01m}\u001b[39;00m\u001b[38;5;124m\"\u001b[39m\u001b[38;5;124m.\u001b[39m\u001b[38;5;124m\"\u001b[39m\u001b[38;5;132;01m{\u001b[39;00mname\u001b[38;5;132;01m}\u001b[39;00m\u001b[38;5;124m\"\u001b[39m\u001b[38;5;124m'\u001b[39m\n\u001b[1;32m    895\u001b[0m to_json_dataframe \u001b[38;5;241m=\u001b[39m DataFrame(\n\u001b[1;32m    896\u001b[0m     \u001b[38;5;124mf\u001b[39m\u001b[38;5;124m\"\u001b[39m\u001b[38;5;124mSELECT to_json(\u001b[39m\u001b[38;5;132;01m{\u001b[39;00moutput_name\u001b[38;5;132;01m}\u001b[39;00m\u001b[38;5;124m)::TEXT FROM \u001b[39m\u001b[38;5;132;01m{\u001b[39;00mqualified_name\u001b[38;5;132;01m}\u001b[39;00m\u001b[38;5;124m AS \u001b[39m\u001b[38;5;132;01m{\u001b[39;00moutput_name\u001b[38;5;132;01m}\u001b[39;00m\u001b[38;5;124m\"\u001b[39m,\n\u001b[1;32m    897\u001b[0m     parents\u001b[38;5;241m=\u001b[39m[\u001b[38;5;28mself\u001b[39m],\n\u001b[1;32m    898\u001b[0m )\n\u001b[0;32m--> 899\u001b[0m result \u001b[38;5;241m=\u001b[39m \u001b[38;5;28;43mself\u001b[39;49m\u001b[38;5;241;43m.\u001b[39;49m\u001b[43m_db\u001b[49m\u001b[38;5;241;43m.\u001b[39;49m\u001b[43m_execute\u001b[49m\u001b[43m(\u001b[49m\u001b[43mto_json_dataframe\u001b[49m\u001b[38;5;241;43m.\u001b[39;49m\u001b[43m_build_full_query\u001b[49m\u001b[43m(\u001b[49m\u001b[43m)\u001b[49m\u001b[43m)\u001b[49m\n\u001b[1;32m    900\u001b[0m \u001b[38;5;28;01mreturn\u001b[39;00m result \u001b[38;5;28;01mif\u001b[39;00m result \u001b[38;5;129;01mis\u001b[39;00m \u001b[38;5;129;01mnot\u001b[39;00m \u001b[38;5;28;01mNone\u001b[39;00m \u001b[38;5;28;01melse\u001b[39;00m []\n",
      "File \u001b[0;32m~/.local/lib/python3.9/site-packages/greenplumpython/db.py:65\u001b[0m, in \u001b[0;36mDatabase._execute\u001b[0;34m(self, query, has_results)\u001b[0m\n\u001b[1;32m     63\u001b[0m \u001b[38;5;28;01mif\u001b[39;00m config\u001b[38;5;241m.\u001b[39mprint_sql:\n\u001b[1;32m     64\u001b[0m     \u001b[38;5;28mprint\u001b[39m(query)\n\u001b[0;32m---> 65\u001b[0m \u001b[43mcursor\u001b[49m\u001b[38;5;241;43m.\u001b[39;49m\u001b[43mexecute\u001b[49m\u001b[43m(\u001b[49m\u001b[43mquery\u001b[49m\u001b[43m)\u001b[49m\n\u001b[1;32m     66\u001b[0m \u001b[38;5;28;01mreturn\u001b[39;00m cursor\u001b[38;5;241m.\u001b[39mfetchall() \u001b[38;5;28;01mif\u001b[39;00m has_results \u001b[38;5;28;01melse\u001b[39;00m cursor\u001b[38;5;241m.\u001b[39mrowcount\n",
      "File \u001b[0;32m~/.local/lib/python3.9/site-packages/psycopg2/extras.py:236\u001b[0m, in \u001b[0;36mRealDictCursor.execute\u001b[0;34m(self, query, vars)\u001b[0m\n\u001b[1;32m    234\u001b[0m \u001b[38;5;28mself\u001b[39m\u001b[38;5;241m.\u001b[39mcolumn_mapping \u001b[38;5;241m=\u001b[39m []\n\u001b[1;32m    235\u001b[0m \u001b[38;5;28mself\u001b[39m\u001b[38;5;241m.\u001b[39m_query_executed \u001b[38;5;241m=\u001b[39m \u001b[38;5;28;01mTrue\u001b[39;00m\n\u001b[0;32m--> 236\u001b[0m \u001b[38;5;28;01mreturn\u001b[39;00m \u001b[38;5;28;43msuper\u001b[39;49m\u001b[43m(\u001b[49m\u001b[43m)\u001b[49m\u001b[38;5;241;43m.\u001b[39;49m\u001b[43mexecute\u001b[49m\u001b[43m(\u001b[49m\u001b[43mquery\u001b[49m\u001b[43m,\u001b[49m\u001b[43m \u001b[49m\u001b[38;5;28;43mvars\u001b[39;49m\u001b[43m)\u001b[49m\n",
      "\u001b[0;31mInternalError_\u001b[0m: UnboundLocalError: local variable 'r2_score' referenced before assignment (plpy_elog.c:121)  (seg1 slice4 127.0.0.1:6003 pid=2187) (plpy_elog.c:121)\nCONTEXT:  Traceback (most recent call last):\n  PL/Python function \"func_d6d73eda8f8a437aa9254f15d267124a\", line 15, in <module>\n    return GD['__func_d6d73eda8f8a437aa9254f15d267124a'](y_actual=y_actual,y_pred=y_pred)\n  PL/Python function \"func_d6d73eda8f8a437aa9254f15d267124a\", line 6, in linreg_eval\nPL/Python function \"func_d6d73eda8f8a437aa9254f15d267124a\"\n"
     ]
    },
    {
     "ename": "InternalError_",
     "evalue": "UnboundLocalError: local variable 'r2_score' referenced before assignment (plpy_elog.c:121)  (seg1 slice4 127.0.0.1:6003 pid=2187) (plpy_elog.c:121)\nCONTEXT:  Traceback (most recent call last):\n  PL/Python function \"func_d6d73eda8f8a437aa9254f15d267124a\", line 3, in <module>\n    return GD['__func_d6d73eda8f8a437aa9254f15d267124a'](y_actual=y_actual,y_pred=y_pred)\n  PL/Python function \"func_d6d73eda8f8a437aa9254f15d267124a\", line 6, in linreg_eval\nPL/Python function \"func_d6d73eda8f8a437aa9254f15d267124a\"\n",
     "output_type": "error",
     "traceback": [
      "\u001b[0;31m---------------------------------------------------------------------------\u001b[0m",
      "\u001b[0;31mInternalError_\u001b[0m                            Traceback (most recent call last)",
      "File \u001b[0;32m~/.local/lib/python3.9/site-packages/IPython/core/formatters.py:343\u001b[0m, in \u001b[0;36mBaseFormatter.__call__\u001b[0;34m(self, obj)\u001b[0m\n\u001b[1;32m    341\u001b[0m     method \u001b[38;5;241m=\u001b[39m get_real_method(obj, \u001b[38;5;28mself\u001b[39m\u001b[38;5;241m.\u001b[39mprint_method)\n\u001b[1;32m    342\u001b[0m     \u001b[38;5;28;01mif\u001b[39;00m method \u001b[38;5;129;01mis\u001b[39;00m \u001b[38;5;129;01mnot\u001b[39;00m \u001b[38;5;28;01mNone\u001b[39;00m:\n\u001b[0;32m--> 343\u001b[0m         \u001b[38;5;28;01mreturn\u001b[39;00m \u001b[43mmethod\u001b[49m\u001b[43m(\u001b[49m\u001b[43m)\u001b[49m\n\u001b[1;32m    344\u001b[0m     \u001b[38;5;28;01mreturn\u001b[39;00m \u001b[38;5;28;01mNone\u001b[39;00m\n\u001b[1;32m    345\u001b[0m \u001b[38;5;28;01melse\u001b[39;00m:\n",
      "File \u001b[0;32m~/.local/lib/python3.9/site-packages/greenplumpython/dataframe.py:274\u001b[0m, in \u001b[0;36mDataFrame._repr_html_\u001b[0;34m(self)\u001b[0m\n\u001b[1;32m    272\u001b[0m \u001b[38;5;124;03m\"\"\":meta private:\"\"\"\u001b[39;00m\n\u001b[1;32m    273\u001b[0m repr_html_str \u001b[38;5;241m=\u001b[39m \u001b[38;5;124m\"\u001b[39m\u001b[38;5;124m\"\u001b[39m\n\u001b[0;32m--> 274\u001b[0m ret \u001b[38;5;241m=\u001b[39m \u001b[38;5;28;43mlist\u001b[39;49m\u001b[43m(\u001b[49m\u001b[38;5;28;43mself\u001b[39;49m\u001b[43m)\u001b[49m\n\u001b[1;32m    275\u001b[0m \u001b[38;5;28;01mif\u001b[39;00m \u001b[38;5;28mlen\u001b[39m(ret) \u001b[38;5;241m!=\u001b[39m \u001b[38;5;241m0\u001b[39m:\n\u001b[1;32m    276\u001b[0m     repr_html_str \u001b[38;5;241m=\u001b[39m \u001b[38;5;124m\"\u001b[39m\u001b[38;5;124m<table>\u001b[39m\u001b[38;5;130;01m\\n\u001b[39;00m\u001b[38;5;124m\"\u001b[39m\n",
      "File \u001b[0;32m~/.local/lib/python3.9/site-packages/greenplumpython/dataframe.py:773\u001b[0m, in \u001b[0;36mDataFrame.__iter__\u001b[0;34m(self)\u001b[0m\n\u001b[1;32m    771\u001b[0m     \u001b[38;5;28;01mreturn\u001b[39;00m DataFrame\u001b[38;5;241m.\u001b[39mIterator(\u001b[38;5;28mself\u001b[39m\u001b[38;5;241m.\u001b[39m_contents)\n\u001b[1;32m    772\u001b[0m \u001b[38;5;28;01massert\u001b[39;00m \u001b[38;5;28mself\u001b[39m\u001b[38;5;241m.\u001b[39m_db \u001b[38;5;129;01mis\u001b[39;00m \u001b[38;5;129;01mnot\u001b[39;00m \u001b[38;5;28;01mNone\u001b[39;00m\n\u001b[0;32m--> 773\u001b[0m \u001b[38;5;28mself\u001b[39m\u001b[38;5;241m.\u001b[39m_contents \u001b[38;5;241m=\u001b[39m \u001b[38;5;28;43mself\u001b[39;49m\u001b[38;5;241;43m.\u001b[39;49m\u001b[43m_fetch\u001b[49m\u001b[43m(\u001b[49m\u001b[43m)\u001b[49m\n\u001b[1;32m    774\u001b[0m \u001b[38;5;28;01massert\u001b[39;00m \u001b[38;5;28mself\u001b[39m\u001b[38;5;241m.\u001b[39m_contents \u001b[38;5;129;01mis\u001b[39;00m \u001b[38;5;129;01mnot\u001b[39;00m \u001b[38;5;28;01mNone\u001b[39;00m\n\u001b[1;32m    775\u001b[0m \u001b[38;5;28;01mreturn\u001b[39;00m DataFrame\u001b[38;5;241m.\u001b[39mIterator(\u001b[38;5;28mself\u001b[39m\u001b[38;5;241m.\u001b[39m_contents)\n",
      "File \u001b[0;32m~/.local/lib/python3.9/site-packages/greenplumpython/dataframe.py:899\u001b[0m, in \u001b[0;36mDataFrame._fetch\u001b[0;34m(self, is_all)\u001b[0m\n\u001b[1;32m    894\u001b[0m qualified_name \u001b[38;5;241m=\u001b[39m \u001b[38;5;124mf\u001b[39m\u001b[38;5;124m'\u001b[39m\u001b[38;5;124m\"\u001b[39m\u001b[38;5;132;01m{\u001b[39;00mname\u001b[38;5;132;01m}\u001b[39;00m\u001b[38;5;124m\"\u001b[39m\u001b[38;5;124m'\u001b[39m \u001b[38;5;28;01mif\u001b[39;00m schema \u001b[38;5;129;01mis\u001b[39;00m \u001b[38;5;28;01mNone\u001b[39;00m \u001b[38;5;28;01melse\u001b[39;00m \u001b[38;5;124mf\u001b[39m\u001b[38;5;124m'\u001b[39m\u001b[38;5;124m\"\u001b[39m\u001b[38;5;132;01m{\u001b[39;00mschema\u001b[38;5;132;01m}\u001b[39;00m\u001b[38;5;124m\"\u001b[39m\u001b[38;5;124m.\u001b[39m\u001b[38;5;124m\"\u001b[39m\u001b[38;5;132;01m{\u001b[39;00mname\u001b[38;5;132;01m}\u001b[39;00m\u001b[38;5;124m\"\u001b[39m\u001b[38;5;124m'\u001b[39m\n\u001b[1;32m    895\u001b[0m to_json_dataframe \u001b[38;5;241m=\u001b[39m DataFrame(\n\u001b[1;32m    896\u001b[0m     \u001b[38;5;124mf\u001b[39m\u001b[38;5;124m\"\u001b[39m\u001b[38;5;124mSELECT to_json(\u001b[39m\u001b[38;5;132;01m{\u001b[39;00moutput_name\u001b[38;5;132;01m}\u001b[39;00m\u001b[38;5;124m)::TEXT FROM \u001b[39m\u001b[38;5;132;01m{\u001b[39;00mqualified_name\u001b[38;5;132;01m}\u001b[39;00m\u001b[38;5;124m AS \u001b[39m\u001b[38;5;132;01m{\u001b[39;00moutput_name\u001b[38;5;132;01m}\u001b[39;00m\u001b[38;5;124m\"\u001b[39m,\n\u001b[1;32m    897\u001b[0m     parents\u001b[38;5;241m=\u001b[39m[\u001b[38;5;28mself\u001b[39m],\n\u001b[1;32m    898\u001b[0m )\n\u001b[0;32m--> 899\u001b[0m result \u001b[38;5;241m=\u001b[39m \u001b[38;5;28;43mself\u001b[39;49m\u001b[38;5;241;43m.\u001b[39;49m\u001b[43m_db\u001b[49m\u001b[38;5;241;43m.\u001b[39;49m\u001b[43m_execute\u001b[49m\u001b[43m(\u001b[49m\u001b[43mto_json_dataframe\u001b[49m\u001b[38;5;241;43m.\u001b[39;49m\u001b[43m_build_full_query\u001b[49m\u001b[43m(\u001b[49m\u001b[43m)\u001b[49m\u001b[43m)\u001b[49m\n\u001b[1;32m    900\u001b[0m \u001b[38;5;28;01mreturn\u001b[39;00m result \u001b[38;5;28;01mif\u001b[39;00m result \u001b[38;5;129;01mis\u001b[39;00m \u001b[38;5;129;01mnot\u001b[39;00m \u001b[38;5;28;01mNone\u001b[39;00m \u001b[38;5;28;01melse\u001b[39;00m []\n",
      "File \u001b[0;32m~/.local/lib/python3.9/site-packages/greenplumpython/db.py:65\u001b[0m, in \u001b[0;36mDatabase._execute\u001b[0;34m(self, query, has_results)\u001b[0m\n\u001b[1;32m     63\u001b[0m \u001b[38;5;28;01mif\u001b[39;00m config\u001b[38;5;241m.\u001b[39mprint_sql:\n\u001b[1;32m     64\u001b[0m     \u001b[38;5;28mprint\u001b[39m(query)\n\u001b[0;32m---> 65\u001b[0m \u001b[43mcursor\u001b[49m\u001b[38;5;241;43m.\u001b[39;49m\u001b[43mexecute\u001b[49m\u001b[43m(\u001b[49m\u001b[43mquery\u001b[49m\u001b[43m)\u001b[49m\n\u001b[1;32m     66\u001b[0m \u001b[38;5;28;01mreturn\u001b[39;00m cursor\u001b[38;5;241m.\u001b[39mfetchall() \u001b[38;5;28;01mif\u001b[39;00m has_results \u001b[38;5;28;01melse\u001b[39;00m cursor\u001b[38;5;241m.\u001b[39mrowcount\n",
      "File \u001b[0;32m~/.local/lib/python3.9/site-packages/psycopg2/extras.py:236\u001b[0m, in \u001b[0;36mRealDictCursor.execute\u001b[0;34m(self, query, vars)\u001b[0m\n\u001b[1;32m    234\u001b[0m \u001b[38;5;28mself\u001b[39m\u001b[38;5;241m.\u001b[39mcolumn_mapping \u001b[38;5;241m=\u001b[39m []\n\u001b[1;32m    235\u001b[0m \u001b[38;5;28mself\u001b[39m\u001b[38;5;241m.\u001b[39m_query_executed \u001b[38;5;241m=\u001b[39m \u001b[38;5;28;01mTrue\u001b[39;00m\n\u001b[0;32m--> 236\u001b[0m \u001b[38;5;28;01mreturn\u001b[39;00m \u001b[38;5;28;43msuper\u001b[39;49m\u001b[43m(\u001b[49m\u001b[43m)\u001b[49m\u001b[38;5;241;43m.\u001b[39;49m\u001b[43mexecute\u001b[49m\u001b[43m(\u001b[49m\u001b[43mquery\u001b[49m\u001b[43m,\u001b[49m\u001b[43m \u001b[49m\u001b[38;5;28;43mvars\u001b[39;49m\u001b[43m)\u001b[49m\n",
      "\u001b[0;31mInternalError_\u001b[0m: UnboundLocalError: local variable 'r2_score' referenced before assignment (plpy_elog.c:121)  (seg1 slice4 127.0.0.1:6003 pid=2187) (plpy_elog.c:121)\nCONTEXT:  Traceback (most recent call last):\n  PL/Python function \"func_d6d73eda8f8a437aa9254f15d267124a\", line 3, in <module>\n    return GD['__func_d6d73eda8f8a437aa9254f15d267124a'](y_actual=y_actual,y_pred=y_pred)\n  PL/Python function \"func_d6d73eda8f8a437aa9254f15d267124a\", line 6, in linreg_eval\nPL/Python function \"func_d6d73eda8f8a437aa9254f15d267124a\"\n"
     ]
    }
   ],
   "source": [
    "# SELECT\n",
    "#    sex\n",
    "#    , (linreg_eval(rings_agg, y_pred_agg)).*\n",
    "# FROM (\n",
    "#    SELECT\n",
    "#        sex\n",
    "#        , ARRAY_AGG(rings) AS rings_agg\n",
    "#        , ARRAY_AGG(y_pred) AS y_pred_agg\n",
    "#    FROM plc_linreg_pred\n",
    "#    GROUP BY sex\n",
    "# ) a\n",
    "\n",
    "\n",
    "linreg_pred.group_by(\"sex\").apply(\n",
    "    lambda t: linreg_eval(t[\"rings\"], t[\"rings_pred\"]), expand=True)"
   ]
  }
 ],
 "metadata": {
  "kernelspec": {
   "display_name": "Python 3 (ipykernel)",
   "language": "python",
   "name": "python3"
  },
  "language_info": {
   "codemirror_mode": {
    "name": "ipython",
    "version": 3
   },
   "file_extension": ".py",
   "mimetype": "text/x-python",
   "name": "python",
   "nbconvert_exporter": "python",
   "pygments_lexer": "ipython3",
   "version": "3.9.13"
  },
  "vscode": {
   "interpreter": {
    "hash": "aee8b7b246df8f9039afb4144a1f6fd8d2ca17a180786b69acc140d282b71a49"
   }
  }
 },
 "nbformat": 4,
 "nbformat_minor": 4
}
