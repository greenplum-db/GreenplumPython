{
 "cells": [
  {
   "cell_type": "markdown",
   "metadata": {},
   "source": [
    "# Generating, Indexing and Searching Embeddings\n",
    "\n",
    "## Installing the Package"
   ]
  },
  {
   "cell_type": "code",
   "execution_count": 1,
   "metadata": {
    "ExecuteTime": {
     "end_time": "2023-08-25T12:57:01.715707Z",
     "start_time": "2023-08-25T12:56:54.919200Z"
    }
   },
   "outputs": [
    {
     "name": "stdout",
     "output_type": "stream",
     "text": [
      "/home/gpadmin/GreenplumPython\n",
      "Defaulting to user installation because normal site-packages is not writeable\n",
      "Processing /home/gpadmin/GreenplumPython\n",
      "  Installing build dependencies ... \u001b[?25ldone\n",
      "\u001b[?25h  Getting requirements to build wheel ... \u001b[?25ldone\n",
      "\u001b[?25h    Preparing wheel metadata ... \u001b[?25ldone\n",
      "\u001b[?25hRequirement already satisfied, skipping upgrade: dill==0.3.6 in /home/gpadmin/.local/lib/python3.9/site-packages (from greenplum-python==1.0.1) (0.3.6)\n",
      "Requirement already satisfied, skipping upgrade: psycopg2-binary==2.9.5 in /home/gpadmin/.local/lib/python3.9/site-packages (from greenplum-python==1.0.1) (2.9.5)\n",
      "Building wheels for collected packages: greenplum-python\n",
      "  Building wheel for greenplum-python (PEP 517) ... \u001b[?25ldone\n",
      "\u001b[?25h  Created wheel for greenplum-python: filename=greenplum_python-1.0.1-py3-none-any.whl size=70618 sha256=22e5718895157b66b4e6a4dd9bbb7164f4039f4d59dbf58fb519da409b246e38\n",
      "  Stored in directory: /tmp/pip-ephem-wheel-cache-q9fmewst/wheels/bb/1f/99/ff8594e48ec11df99af6e0ee8611a5e560e9f44d1a3fefb351\n",
      "Successfully built greenplum-python\n",
      "Installing collected packages: greenplum-python\n",
      "Successfully installed greenplum-python-1.0.1\n"
     ]
    }
   ],
   "source": [
    "%cd ../../../\n",
    "!python3 -m pip install --upgrade ."
   ]
  },
  {
   "cell_type": "markdown",
   "metadata": {},
   "source": [
    "## Preparing Data"
   ]
  },
  {
   "cell_type": "code",
   "execution_count": 2,
   "metadata": {
    "ExecuteTime": {
     "end_time": "2023-08-25T12:57:02.644919Z",
     "start_time": "2023-08-25T12:57:01.723149Z"
    }
   },
   "outputs": [],
   "source": [
    "content = [\"I have a dog.\", \"I like eating apples.\"]\n",
    "\n",
    "import greenplumpython as gp\n",
    "\n",
    "db = gp.database(\"postgresql://localhost:7000\")\n",
    "t = (\n",
    "    db.create_dataframe(columns={\"id\": range(len(content)), \"content\": content})\n",
    "    .save_as(\n",
    "        table_name=\"text_sample\",\n",
    "        column_names=[\"id\", \"content\"],\n",
    "        distribution_key={\"id\"},\n",
    "        distribution_type=\"hash\",\n",
    "    )\n",
    "    .check_unique(columns={\"id\"})\n",
    ")"
   ]
  },
  {
   "cell_type": "markdown",
   "metadata": {},
   "source": [
    "## Generating and Indexing Embeddings"
   ]
  },
  {
   "cell_type": "code",
   "execution_count": 3,
   "metadata": {
    "ExecuteTime": {
     "end_time": "2023-08-25T12:57:08.645604Z",
     "start_time": "2023-08-25T12:57:02.646625Z"
    }
   },
   "outputs": [
    {
     "data": {
      "text/plain": "----------------------------\n id | content               \n----+-----------------------\n  0 | I have a dog.         \n  1 | I like eating apples. \n----------------------------\n(2 rows)",
      "text/html": "<table>\n\t<tr>\n\t\t<th>id</th>\n\t\t<th>content</th>\n\t</tr>\n\t<tr>\n\t\t<td>0</td>\n\t\t<td>I have a dog.</td>\n\t</tr>\n\t<tr>\n\t\t<td>1</td>\n\t\t<td>I like eating apples.</td>\n\t</tr>\n</table>"
     },
     "execution_count": 3,
     "metadata": {},
     "output_type": "execute_result"
    }
   ],
   "source": [
    "import greenplumpython.experimental.embedding\n",
    "\n",
    "t = t.embedding().create_index(column=\"content\", model=\"all-MiniLM-L6-v2\")\n",
    "t"
   ]
  },
  {
   "cell_type": "markdown",
   "metadata": {},
   "source": [
    "## Searching Embeddings"
   ]
  },
  {
   "cell_type": "code",
   "execution_count": 4,
   "metadata": {
    "ExecuteTime": {
     "end_time": "2023-08-25T12:57:14.069009Z",
     "start_time": "2023-08-25T12:57:08.643273Z"
    }
   },
   "outputs": [
    {
     "data": {
      "text/plain": "----------------------------\n id | content               \n----+-----------------------\n  1 | I like eating apples. \n----------------------------\n(1 row)",
      "text/html": "<table>\n\t<tr>\n\t\t<th>id</th>\n\t\t<th>content</th>\n\t</tr>\n\t<tr>\n\t\t<td>1</td>\n\t\t<td>I like eating apples.</td>\n\t</tr>\n</table>"
     },
     "execution_count": 4,
     "metadata": {},
     "output_type": "execute_result"
    }
   ],
   "source": [
    "t.embedding().search(column=\"content\", query=\"apple\", top_k=1)"
   ]
  },
  {
   "cell_type": "markdown",
   "source": [
    "## Batched k-NN search"
   ],
   "metadata": {
    "collapsed": false
   }
  },
  {
   "cell_type": "code",
   "execution_count": 5,
   "outputs": [],
   "source": [
    "query = (\n",
    "    db.create_dataframe(columns={\"idd\": range(3), \"query\": [\"apple\", \"dog\", \"banana\"]})\n",
    "    .save_as(\n",
    "        table_name=\"query_sample\",\n",
    "        column_names=[\"idd\", \"query\"],\n",
    "        distribution_key={\"idd\"},\n",
    "        distribution_type=\"hash\",\n",
    "    )\n",
    "    .check_unique(columns={\"idd\"})\n",
    "    .embedding()\n",
    "    .create_index(column=\"query\", model=\"all-MiniLM-L6-v2\")\n",
    ")"
   ],
   "metadata": {
    "collapsed": false,
    "ExecuteTime": {
     "end_time": "2023-08-25T12:57:17.400047Z",
     "start_time": "2023-08-25T12:57:14.059315Z"
    }
   }
  },
  {
   "cell_type": "code",
   "execution_count": 6,
   "outputs": [
    {
     "data": {
      "text/plain": "-------------------------------------------\n idd | id | query  | content               \n-----+----+--------+-----------------------\n   1 |  0 | dog    | I have a dog.         \n   2 |  1 | banana | I like eating apples. \n   0 |  1 | apple  | I like eating apples. \n-------------------------------------------\n(3 rows)",
      "text/html": "<table>\n\t<tr>\n\t\t<th>idd</th>\n\t\t<th>id</th>\n\t\t<th>query</th>\n\t\t<th>content</th>\n\t</tr>\n\t<tr>\n\t\t<td>1</td>\n\t\t<td>0</td>\n\t\t<td>dog</td>\n\t\t<td>I have a dog.</td>\n\t</tr>\n\t<tr>\n\t\t<td>2</td>\n\t\t<td>1</td>\n\t\t<td>banana</td>\n\t\t<td>I like eating apples.</td>\n\t</tr>\n\t<tr>\n\t\t<td>0</td>\n\t\t<td>1</td>\n\t\t<td>apple</td>\n\t\t<td>I like eating apples.</td>\n\t</tr>\n</table>"
     },
     "execution_count": 6,
     "metadata": {},
     "output_type": "execute_result"
    }
   ],
   "source": [
    "t.embedding().search(column=\"content\", query=query[\"query\"], top_k=1)"
   ],
   "metadata": {
    "collapsed": false,
    "ExecuteTime": {
     "end_time": "2023-08-25T12:57:18.305871Z",
     "start_time": "2023-08-25T12:57:17.402679Z"
    }
   }
  },
  {
   "cell_type": "markdown",
   "metadata": {},
   "source": [
    "## Cleaning All at Once"
   ]
  },
  {
   "cell_type": "code",
   "execution_count": null,
   "metadata": {},
   "outputs": [],
   "source": [
    "%reload_ext sql\n",
    "%sql postgresql://localhost:7000\n",
    "%sql DROP TABLE text_sample CASCADE;"
    "%sql DROP TABLE query_sample CASCADE;"
   ]
  }
 ],
 "metadata": {
  "kernelspec": {
   "display_name": "Python 3 (ipykernel)",
   "language": "python",
   "name": "python3"
  },
  "language_info": {
   "codemirror_mode": {
    "name": "ipython",
    "version": 3
   },
   "file_extension": ".py",
   "mimetype": "text/x-python",
   "name": "python",
   "nbconvert_exporter": "python",
   "pygments_lexer": "ipython3",
   "version": "3.9.13"
  }
 },
 "nbformat": 4,
 "nbformat_minor": 2
}
