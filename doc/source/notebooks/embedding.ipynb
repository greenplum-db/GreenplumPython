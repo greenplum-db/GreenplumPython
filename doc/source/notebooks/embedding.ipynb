{
 "cells": [
  {
   "cell_type": "markdown",
   "metadata": {},
   "source": [
    "# Generating, Indexing and Searching Embeddings\n",
    "\n",
    "## Installing the Package"
   ]
  },
  {
   "cell_type": "code",
   "execution_count": 1,
   "metadata": {
    "ExecuteTime": {
     "end_time": "2023-08-24T14:57:03.091010Z",
     "start_time": "2023-08-24T14:56:56.508814Z"
    }
   },
   "outputs": [
    {
     "name": "stdout",
     "output_type": "stream",
     "text": [
      "/Users/ruxuez/Desktop/dev/GreenplumPython\n",
      "Processing /Users/ruxuez/Desktop/dev/GreenplumPython\r\n",
      "  Installing build dependencies ... \u001B[?25ldone\r\n",
      "\u001B[?25h  Getting requirements to build wheel ... \u001B[?25ldone\r\n",
      "\u001B[?25h  Preparing metadata (pyproject.toml) ... \u001B[?25ldone\r\n",
      "\u001B[?25hRequirement already satisfied: psycopg2-binary==2.9.5 in ./venv/lib/python3.9/site-packages (from greenplum-python==1.0.1) (2.9.5)\r\n",
      "Requirement already satisfied: dill==0.3.6 in ./venv/lib/python3.9/site-packages (from greenplum-python==1.0.1) (0.3.6)\r\n",
      "Building wheels for collected packages: greenplum-python\r\n",
      "  Building wheel for greenplum-python (pyproject.toml) ... \u001B[?25ldone\r\n",
      "\u001B[?25h  Created wheel for greenplum-python: filename=greenplum_python-1.0.1-py3-none-any.whl size=84165 sha256=9746078492ea731ec973e8d87764de0b8fda43f8a9af1de2d4db7a13799ddb8c\r\n",
      "  Stored in directory: /private/var/folders/jf/ycmq4_px3nj7gcrs015qqhxm0000gq/T/pip-ephem-wheel-cache-d86u32fo/wheels/56/a3/62/fb507748981bea497278b550674de9ab4cfa5150c30722b3d5\r\n",
      "Successfully built greenplum-python\r\n",
      "Installing collected packages: greenplum-python\r\n",
      "  Attempting uninstall: greenplum-python\r\n",
      "    Found existing installation: greenplum-python 1.0.1\r\n",
      "    Uninstalling greenplum-python-1.0.1:\r\n",
      "      Successfully uninstalled greenplum-python-1.0.1\r\n",
      "Successfully installed greenplum-python-1.0.1\r\n",
      "\r\n",
      "\u001B[1m[\u001B[0m\u001B[34;49mnotice\u001B[0m\u001B[1;39;49m]\u001B[0m\u001B[39;49m A new release of pip available: \u001B[0m\u001B[31;49m22.3.1\u001B[0m\u001B[39;49m -> \u001B[0m\u001B[32;49m23.2.1\u001B[0m\r\n",
      "\u001B[1m[\u001B[0m\u001B[34;49mnotice\u001B[0m\u001B[1;39;49m]\u001B[0m\u001B[39;49m To update, run: \u001B[0m\u001B[32;49mpip install --upgrade pip\u001B[0m\r\n"
     ]
    }
   ],
   "source": [
    "%cd ../../../\n",
    "!python3 -m pip install --upgrade ."
   ]
  },
  {
   "cell_type": "markdown",
   "metadata": {},
   "source": [
    "## Preparing Data"
   ]
  },
  {
   "cell_type": "code",
   "execution_count": 2,
   "metadata": {
    "ExecuteTime": {
     "end_time": "2023-08-24T14:57:03.994979Z",
     "start_time": "2023-08-24T14:57:03.090193Z"
    }
   },
   "outputs": [],
   "source": [
    "content = [\"I have a dog.\", \"I like eating apples.\"]\n",
    "\n",
    "import greenplumpython as gp\n",
    "\n",
    "db = gp.database(\"postgres://localhost:7000\")\n",
    "t = (\n",
    "    db.create_dataframe(columns={\"id\": range(len(content)), \"content\": content})\n",
    "    .save_as(\n",
    "        table_name=\"text_sample\",\n",
    "        column_names=[\"id\", \"content\"],\n",
    "        distribution_key={\"id\"},\n",
    "        distribution_type=\"hash\",\n",
    "    )\n",
    "    .check_unique(columns={\"id\"})\n",
    ")"
   ]
  },
  {
   "cell_type": "markdown",
   "metadata": {},
   "source": [
    "## Generating and Indexing Embeddings"
   ]
  },
  {
   "cell_type": "code",
   "execution_count": 3,
   "metadata": {
    "ExecuteTime": {
     "end_time": "2023-08-24T14:57:09.828879Z",
     "start_time": "2023-08-24T14:57:03.997220Z"
    }
   },
   "outputs": [
    {
     "data": {
      "text/plain": "----------------------------\n id | content               \n----+-----------------------\n  0 | I have a dog.         \n  1 | I like eating apples. \n----------------------------\n(2 rows)",
      "text/html": "<table>\n\t<tr>\n\t\t<th>id</th>\n\t\t<th>content</th>\n\t</tr>\n\t<tr>\n\t\t<td>0</td>\n\t\t<td>I have a dog.</td>\n\t</tr>\n\t<tr>\n\t\t<td>1</td>\n\t\t<td>I like eating apples.</td>\n\t</tr>\n</table>"
     },
     "execution_count": 3,
     "metadata": {},
     "output_type": "execute_result"
    }
   ],
   "source": [
    "import greenplumpython.experimental.embedding\n",
    "\n",
    "t = t.embedding().create_index(column=\"content\", model=\"all-MiniLM-L6-v2\")\n",
    "t"
   ]
  },
  {
   "cell_type": "markdown",
   "metadata": {},
   "source": [
    "## Searching Embeddings"
   ]
  },
  {
   "cell_type": "code",
   "execution_count": 4,
   "metadata": {
    "ExecuteTime": {
     "end_time": "2023-08-24T14:57:15.090346Z",
     "start_time": "2023-08-24T14:57:09.830713Z"
    }
   },
   "outputs": [
    {
     "data": {
      "text/plain": "----------------------------\n id | content               \n----+-----------------------\n  1 | I like eating apples. \n----------------------------\n(1 row)",
      "text/html": "<table>\n\t<tr>\n\t\t<th>id</th>\n\t\t<th>content</th>\n\t</tr>\n\t<tr>\n\t\t<td>1</td>\n\t\t<td>I like eating apples.</td>\n\t</tr>\n</table>"
     },
     "execution_count": 4,
     "metadata": {},
     "output_type": "execute_result"
    }
   ],
   "source": [
    "t.embedding().search(column=\"content\", query=\"apple\", top_k=1)"
   ]
  },
  {
   "cell_type": "markdown",
   "source": [
    "Batched k-NN search"
   ],
   "metadata": {
    "collapsed": false
   }
  },
  {
   "cell_type": "code",
   "execution_count": 5,
   "outputs": [],
   "source": [
    "query = (\n",
    "    db.create_dataframe(columns={\"idd\": range(3), \"query\": [\"apple\", \"dog\", \"banana\"]})\n",
    "    .save_as(\n",
    "        table_name=\"query_sample\",\n",
    "        column_names=[\"idd\", \"query\"],\n",
    "        distribution_key={\"idd\"},\n",
    "        distribution_type=\"hash\",\n",
    "    )\n",
    "    .check_unique(columns={\"idd\"})\n",
    "    .embedding()\n",
    "    .create_index(column=\"query\", model=\"all-MiniLM-L6-v2\")\n",
    ")"
   ],
   "metadata": {
    "collapsed": false,
    "ExecuteTime": {
     "end_time": "2023-08-24T14:57:19.072770Z",
     "start_time": "2023-08-24T14:57:15.092543Z"
    }
   }
  },
  {
   "cell_type": "code",
   "execution_count": 6,
   "outputs": [
    {
     "data": {
      "text/plain": "-------------------------------------------\n idd | id | query  | content               \n-----+----+--------+-----------------------\n   1 |  0 | dog    | I have a dog.         \n   2 |  0 | banana | I have a dog.         \n   2 |  1 | banana | I like eating apples. \n   0 |  1 | apple  | I like eating apples. \n-------------------------------------------\n(4 rows)",
      "text/html": "<table>\n\t<tr>\n\t\t<th>idd</th>\n\t\t<th>id</th>\n\t\t<th>query</th>\n\t\t<th>content</th>\n\t</tr>\n\t<tr>\n\t\t<td>1</td>\n\t\t<td>0</td>\n\t\t<td>dog</td>\n\t\t<td>I have a dog.</td>\n\t</tr>\n\t<tr>\n\t\t<td>2</td>\n\t\t<td>0</td>\n\t\t<td>banana</td>\n\t\t<td>I have a dog.</td>\n\t</tr>\n\t<tr>\n\t\t<td>2</td>\n\t\t<td>1</td>\n\t\t<td>banana</td>\n\t\t<td>I like eating apples.</td>\n\t</tr>\n\t<tr>\n\t\t<td>0</td>\n\t\t<td>1</td>\n\t\t<td>apple</td>\n\t\t<td>I like eating apples.</td>\n\t</tr>\n</table>"
     },
     "execution_count": 6,
     "metadata": {},
     "output_type": "execute_result"
    }
   ],
   "source": [
    "t.embedding().search(column=\"content\", query=query[\"query\"], top_k=2)"
   ],
   "metadata": {
    "collapsed": false,
    "ExecuteTime": {
     "end_time": "2023-08-24T14:57:19.825771Z",
     "start_time": "2023-08-24T14:57:19.074661Z"
    }
   }
  },
  {
   "cell_type": "markdown",
   "metadata": {},
   "source": [
    "## Cleaning All at Once"
   ]
  },
  {
   "cell_type": "code",
   "execution_count": null,
   "metadata": {},
   "outputs": [],
   "source": [
    "%reload_ext sql\n",
    "%sql postgresql://localhost:7000\n",
    "%sql DROP TABLE text_sample CASCADE;\n",
    "%sql DROP TABLE query_sample CASCADE;"
   ]
  },
  {
   "cell_type": "code",
   "execution_count": null,
   "outputs": [],
   "source": [],
   "metadata": {
    "collapsed": false
   }
  }
 ],
 "metadata": {
  "kernelspec": {
   "display_name": "Python 3 (ipykernel)",
   "language": "python",
   "name": "python3"
  },
  "language_info": {
   "codemirror_mode": {
    "name": "ipython",
    "version": 3
   },
   "file_extension": ".py",
   "mimetype": "text/x-python",
   "name": "python",
   "nbconvert_exporter": "python",
   "pygments_lexer": "ipython3",
   "version": "3.9.13"
  }
 },
 "nbformat": 4,
 "nbformat_minor": 2
}
