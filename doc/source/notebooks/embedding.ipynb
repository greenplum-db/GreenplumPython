{
 "cells": [
  {
   "cell_type": "markdown",
   "metadata": {},
   "source": [
    "# Generating, Indexing and Searching Embeddings\n",
    "\n",
    "## Installing the Package"
   ]
  },
  {
   "cell_type": "code",
   "execution_count": 1,
   "metadata": {},
   "outputs": [
    {
     "name": "stdout",
     "output_type": "stream",
     "text": [
      "/home/gpadmin/GreenplumPython\n",
      "Defaulting to user installation because normal site-packages is not writeable\n",
      "Processing /home/gpadmin/GreenplumPython\n",
      "  Installing build dependencies ... \u001b[?25ldone\n",
      "\u001b[?25h  Getting requirements to build wheel ... \u001b[?25ldone\n",
      "\u001b[?25h    Preparing wheel metadata ... \u001b[?25ldone\n",
      "\u001b[?25hRequirement already satisfied, skipping upgrade: dill==0.3.6 in /home/gpadmin/.local/lib/python3.9/site-packages (from greenplum-python==1.0.1) (0.3.6)\n",
      "Requirement already satisfied, skipping upgrade: psycopg2-binary==2.9.5 in /home/gpadmin/.local/lib/python3.9/site-packages (from greenplum-python==1.0.1) (2.9.5)\n",
      "Building wheels for collected packages: greenplum-python\n",
      "  Building wheel for greenplum-python (PEP 517) ... \u001b[?25ldone\n",
      "\u001b[?25h  Created wheel for greenplum-python: filename=greenplum_python-1.0.1-py3-none-any.whl size=70618 sha256=22e5718895157b66b4e6a4dd9bbb7164f4039f4d59dbf58fb519da409b246e38\n",
      "  Stored in directory: /tmp/pip-ephem-wheel-cache-q9fmewst/wheels/bb/1f/99/ff8594e48ec11df99af6e0ee8611a5e560e9f44d1a3fefb351\n",
      "Successfully built greenplum-python\n",
      "Installing collected packages: greenplum-python\n",
      "Successfully installed greenplum-python-1.0.1\n"
     ]
    }
   ],
   "source": [
    "%cd ../../../\n",
    "!python3 -m pip install --upgrade ."
   ]
  },
  {
   "cell_type": "markdown",
   "metadata": {},
   "source": [
    "## Preparing Data"
   ]
  },
  {
   "cell_type": "code",
   "execution_count": 2,
   "metadata": {},
   "outputs": [],
   "source": [
    "content = [\"I have a dog.\", \"I like eating apples.\"]\n",
    "\n",
    "import greenplumpython as gp\n",
    "\n",
    "db = gp.database(\"postgresql://localhost:7000\")\n",
    "t = (\n",
    "    db.create_dataframe(columns={\"id\": range(len(content)), \"content\": content})\n",
    "    .save_as(\n",
    "        table_name=\"text_sample\",\n",
    "        column_names=[\"id\", \"content\"],\n",
    "        distribution_key={\"id\"},\n",
    "        distribution_type=\"hash\",\n",
    "    )\n",
    "    .check_unique(columns={\"id\"})\n",
    ")"
   ]
  },
  {
   "cell_type": "markdown",
   "metadata": {},
   "source": [
    "## Generating and Indexing Embeddings"
   ]
  },
  {
   "cell_type": "code",
   "execution_count": 3,
   "metadata": {},
   "outputs": [
    {
     "data": {
      "text/html": [
       "<table>\n",
       "\t<tr>\n",
       "\t\t<th>id</th>\n",
       "\t\t<th>content</th>\n",
       "\t</tr>\n",
       "\t<tr>\n",
       "\t\t<td>0</td>\n",
       "\t\t<td>I have a dog.</td>\n",
       "\t</tr>\n",
       "\t<tr>\n",
       "\t\t<td>1</td>\n",
       "\t\t<td>I like eating apples.</td>\n",
       "\t</tr>\n",
       "</table>"
      ],
      "text/plain": [
       "----------------------------\n",
       " id | content               \n",
       "----+-----------------------\n",
       "  0 | I have a dog.         \n",
       "  1 | I like eating apples. \n",
       "----------------------------\n",
       "(2 rows)"
      ]
     },
     "execution_count": 3,
     "metadata": {},
     "output_type": "execute_result"
    }
   ],
   "source": [
    "import greenplumpython.experimental.embedding\n",
    "\n",
    "t = t.embedding().create_index(column=\"content\", model=\"all-MiniLM-L6-v2\")\n",
    "t"
   ]
  },
  {
   "cell_type": "markdown",
   "metadata": {},
   "source": [
    "## Searching Embeddings"
   ]
  },
  {
   "cell_type": "code",
   "execution_count": 4,
   "metadata": {},
   "outputs": [
    {
     "data": {
      "text/html": [
       "<table>\n",
       "\t<tr>\n",
       "\t\t<th>id</th>\n",
       "\t\t<th>content</th>\n",
       "\t</tr>\n",
       "\t<tr>\n",
       "\t\t<td>1</td>\n",
       "\t\t<td>I like eating apples.</td>\n",
       "\t</tr>\n",
       "</table>"
      ],
      "text/plain": [
       "----------------------------\n",
       " id | content               \n",
       "----+-----------------------\n",
       "  1 | I like eating apples. \n",
       "----------------------------\n",
       "(1 row)"
      ]
     },
     "execution_count": 4,
     "metadata": {},
     "output_type": "execute_result"
    }
   ],
   "source": [
    "t.embedding().search(column=\"content\", query=\"apple\", top_k=1)"
   ]
  },
  {
   "cell_type": "markdown",
   "metadata": {},
   "source": [
    "## Cleaning All at Once"
   ]
  },
  {
   "cell_type": "code",
   "execution_count": 6,
   "metadata": {},
   "outputs": [
    {
     "name": "stdout",
     "output_type": "stream",
     "text": [
      " * postgresql://localhost:7000\n",
      "Done.\n"
     ]
    },
    {
     "data": {
      "text/plain": [
       "[]"
      ]
     },
     "execution_count": 6,
     "metadata": {},
     "output_type": "execute_result"
    }
   ],
   "source": [
    "%reload_ext sql\n",
    "%sql postgresql://localhost:7000\n",
    "%sql DROP TABLE text_sample CASCADE;"
   ]
  }
 ],
 "metadata": {
  "kernelspec": {
   "display_name": "Python 3 (ipykernel)",
   "language": "python",
   "name": "python3"
  },
  "language_info": {
   "codemirror_mode": {
    "name": "ipython",
    "version": 3
   },
   "file_extension": ".py",
   "mimetype": "text/x-python",
   "name": "python",
   "nbconvert_exporter": "python",
   "pygments_lexer": "ipython3",
   "version": "3.9.13"
  }
 },
 "nbformat": 4,
 "nbformat_minor": 2
}
