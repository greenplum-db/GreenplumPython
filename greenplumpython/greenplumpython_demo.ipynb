{
 "cells": [
  {
   "cell_type": "markdown",
   "metadata": {},
   "source": [
    "# The Pandas-like Table API in GreenplumPython\n",
    "\n",
    "GreenplumPython is a Python library that enables the user to interact with Greenplum in a Pythonic way.\n",
    "\n",
    "In the coming release, GreenplumPython will provide a pandas-like table API that\n",
    "1. looks familiar and intuitive to Python users\n",
    "2. is powerful to do complex analytics, such as statistical analysis, with UDFs and UDAs\n",
    "3. encapsulates common best practices and avoids common pitfalls in Greeenplum, compared to writing SQL directly\n",
    "\n",
    "# Selecting the Database of Your Data\n",
    "\n",
    "To begin with, we need to select the database that contains the data we want:"
   ]
  },
  {
   "cell_type": "code",
   "execution_count": 1,
   "metadata": {},
   "outputs": [
    {
     "name": "stdout",
     "output_type": "stream",
     "text": [
      "<greenplumpython.db.Database object at 0x7f9011ab5610>\n"
     ]
    }
   ],
   "source": [
    "import greenplumpython as gp\n",
    "\n",
    "\n",
    "db = gp.database(host=\"localhost\", dbname=\"gpadmin\")\n",
    "print(db)"
   ]
  },
  {
   "cell_type": "markdown",
   "metadata": {},
   "source": [
    "# Accessing a Table in the Database\n",
    "\n",
    "After selecting the database, we can access a table in the database by specifying its name:"
   ]
  },
  {
   "cell_type": "code",
   "execution_count": 3,
   "metadata": {},
   "outputs": [],
   "source": [
    "from tabulate import tabulate\n",
    "\n",
    "\n",
    "def format(t: gp.Table):\n",
    "    return tabulate(t.fetch(), headers=\"keys\", tablefmt=\"html\")"
   ]
  },
  {
   "cell_type": "code",
   "execution_count": 3,
   "metadata": {},
   "outputs": [
    {
     "data": {
      "text/plain": "'<table>\\n<thead>\\n<tr><th style=\"text-align: right;\">  i</th><th style=\"text-align: right;\">  n</th></tr>\\n</thead>\\n<tbody>\\n<tr><td style=\"text-align: right;\">  1</td><td style=\"text-align: right;\">  2</td></tr>\\n<tr><td style=\"text-align: right;\">  2</td><td style=\"text-align: right;\">  3</td></tr>\\n<tr><td style=\"text-align: right;\">  6</td><td style=\"text-align: right;\">  7</td></tr>\\n<tr><td style=\"text-align: right;\"> 10</td><td style=\"text-align: right;\"> 11</td></tr>\\n<tr><td style=\"text-align: right;\">  3</td><td style=\"text-align: right;\">  4</td></tr>\\n<tr><td style=\"text-align: right;\">  4</td><td style=\"text-align: right;\">  5</td></tr>\\n<tr><td style=\"text-align: right;\">  7</td><td style=\"text-align: right;\">  8</td></tr>\\n<tr><td style=\"text-align: right;\">  8</td><td style=\"text-align: right;\">  9</td></tr>\\n<tr><td style=\"text-align: right;\">  5</td><td style=\"text-align: right;\">  6</td></tr>\\n<tr><td style=\"text-align: right;\">  9</td><td style=\"text-align: right;\"> 10</td></tr>\\n</tbody>\\n</table>'",
      "text/html": "<table>\n<thead>\n<tr><th style=\"text-align: right;\">  i</th><th style=\"text-align: right;\">  n</th></tr>\n</thead>\n<tbody>\n<tr><td style=\"text-align: right;\">  1</td><td style=\"text-align: right;\">  2</td></tr>\n<tr><td style=\"text-align: right;\">  2</td><td style=\"text-align: right;\">  3</td></tr>\n<tr><td style=\"text-align: right;\">  6</td><td style=\"text-align: right;\">  7</td></tr>\n<tr><td style=\"text-align: right;\"> 10</td><td style=\"text-align: right;\"> 11</td></tr>\n<tr><td style=\"text-align: right;\">  3</td><td style=\"text-align: right;\">  4</td></tr>\n<tr><td style=\"text-align: right;\">  4</td><td style=\"text-align: right;\">  5</td></tr>\n<tr><td style=\"text-align: right;\">  7</td><td style=\"text-align: right;\">  8</td></tr>\n<tr><td style=\"text-align: right;\">  8</td><td style=\"text-align: right;\">  9</td></tr>\n<tr><td style=\"text-align: right;\">  5</td><td style=\"text-align: right;\">  6</td></tr>\n<tr><td style=\"text-align: right;\">  9</td><td style=\"text-align: right;\"> 10</td></tr>\n</tbody>\n</table>"
     },
     "execution_count": 3,
     "metadata": {},
     "output_type": "execute_result"
    }
   ],
   "source": [
    "t = gp.table(\"demo\", db=db)\n",
    "format(t)"
   ]
  },
  {
   "cell_type": "markdown",
   "metadata": {},
   "source": [
    "# Basic Data Manipulation\n",
    "\n",
    "Now we have a table. We can do basic data manipulation on it, just like in SQL.\n",
    "\n",
    "For example, I can `SELECT` a subset of its columns:"
   ]
  },
  {
   "cell_type": "code",
   "execution_count": 5,
   "metadata": {},
   "outputs": [
    {
     "name": "stdout",
     "output_type": "stream",
     "text": [
      "WITH demo AS (TABLE demo)\n",
      "                SELECT i,j \n",
      "                FROM demo\n",
      "            \n"
     ]
    },
    {
     "data": {
      "text/html": [
       "<table>\n",
       "<thead>\n",
       "<tr><th style=\"text-align: right;\">  i</th><th style=\"text-align: right;\">  j</th></tr>\n",
       "</thead>\n",
       "<tbody>\n",
       "<tr><td style=\"text-align: right;\">  3</td><td style=\"text-align: right;\">  3</td></tr>\n",
       "<tr><td style=\"text-align: right;\"> 10</td><td style=\"text-align: right;\"> 10</td></tr>\n",
       "<tr><td style=\"text-align: right;\">  1</td><td style=\"text-align: right;\">  1</td></tr>\n",
       "<tr><td style=\"text-align: right;\">  4</td><td style=\"text-align: right;\">  4</td></tr>\n",
       "<tr><td style=\"text-align: right;\">  8</td><td style=\"text-align: right;\">  8</td></tr>\n",
       "<tr><td style=\"text-align: right;\">  2</td><td style=\"text-align: right;\">  2</td></tr>\n",
       "<tr><td style=\"text-align: right;\">  5</td><td style=\"text-align: right;\">  5</td></tr>\n",
       "<tr><td style=\"text-align: right;\">  6</td><td style=\"text-align: right;\">  6</td></tr>\n",
       "<tr><td style=\"text-align: right;\">  7</td><td style=\"text-align: right;\">  7</td></tr>\n",
       "<tr><td style=\"text-align: right;\">  9</td><td style=\"text-align: right;\">  9</td></tr>\n",
       "</tbody>\n",
       "</table>"
      ],
      "text/plain": [
       "'<table>\\n<thead>\\n<tr><th style=\"text-align: right;\">  i</th><th style=\"text-align: right;\">  j</th></tr>\\n</thead>\\n<tbody>\\n<tr><td style=\"text-align: right;\">  3</td><td style=\"text-align: right;\">  3</td></tr>\\n<tr><td style=\"text-align: right;\"> 10</td><td style=\"text-align: right;\"> 10</td></tr>\\n<tr><td style=\"text-align: right;\">  1</td><td style=\"text-align: right;\">  1</td></tr>\\n<tr><td style=\"text-align: right;\">  4</td><td style=\"text-align: right;\">  4</td></tr>\\n<tr><td style=\"text-align: right;\">  8</td><td style=\"text-align: right;\">  8</td></tr>\\n<tr><td style=\"text-align: right;\">  2</td><td style=\"text-align: right;\">  2</td></tr>\\n<tr><td style=\"text-align: right;\">  5</td><td style=\"text-align: right;\">  5</td></tr>\\n<tr><td style=\"text-align: right;\">  6</td><td style=\"text-align: right;\">  6</td></tr>\\n<tr><td style=\"text-align: right;\">  7</td><td style=\"text-align: right;\">  7</td></tr>\\n<tr><td style=\"text-align: right;\">  9</td><td style=\"text-align: right;\">  9</td></tr>\\n</tbody>\\n</table>'"
      ]
     },
     "execution_count": 5,
     "metadata": {},
     "output_type": "execute_result"
    }
   ],
   "source": [
    "t_ij = t[[\"i\", \"j\"]]\n",
    "format(t_ij)"
   ]
  },
  {
   "cell_type": "markdown",
   "metadata": {},
   "source": [
    "And I can also `SELECT` a subset of its rows. Say I want all the even numbers:"
   ]
  },
  {
   "cell_type": "code",
   "execution_count": 6,
   "metadata": {},
   "outputs": [
    {
     "name": "stdout",
     "output_type": "stream",
     "text": [
      "WITH demo AS (TABLE demo),cte_1ce15e76cd294d73b91f9f7d712162aa AS (\n",
      "                SELECT i,j \n",
      "                FROM demo\n",
      "            )SELECT * FROM cte_1ce15e76cd294d73b91f9f7d712162aa WHERE cte_1ce15e76cd294d73b91f9f7d712162aa.i %% 2 = 0\n"
     ]
    },
    {
     "data": {
      "text/html": [
       "<table>\n",
       "<thead>\n",
       "<tr><th style=\"text-align: right;\">  i</th><th style=\"text-align: right;\">  j</th></tr>\n",
       "</thead>\n",
       "<tbody>\n",
       "<tr><td style=\"text-align: right;\"> 10</td><td style=\"text-align: right;\"> 10</td></tr>\n",
       "<tr><td style=\"text-align: right;\">  4</td><td style=\"text-align: right;\">  4</td></tr>\n",
       "<tr><td style=\"text-align: right;\">  8</td><td style=\"text-align: right;\">  8</td></tr>\n",
       "<tr><td style=\"text-align: right;\">  2</td><td style=\"text-align: right;\">  2</td></tr>\n",
       "<tr><td style=\"text-align: right;\">  6</td><td style=\"text-align: right;\">  6</td></tr>\n",
       "</tbody>\n",
       "</table>"
      ],
      "text/plain": [
       "'<table>\\n<thead>\\n<tr><th style=\"text-align: right;\">  i</th><th style=\"text-align: right;\">  j</th></tr>\\n</thead>\\n<tbody>\\n<tr><td style=\"text-align: right;\"> 10</td><td style=\"text-align: right;\"> 10</td></tr>\\n<tr><td style=\"text-align: right;\">  4</td><td style=\"text-align: right;\">  4</td></tr>\\n<tr><td style=\"text-align: right;\">  8</td><td style=\"text-align: right;\">  8</td></tr>\\n<tr><td style=\"text-align: right;\">  2</td><td style=\"text-align: right;\">  2</td></tr>\\n<tr><td style=\"text-align: right;\">  6</td><td style=\"text-align: right;\">  6</td></tr>\\n</tbody>\\n</table>'"
      ]
     },
     "execution_count": 6,
     "metadata": {},
     "output_type": "execute_result"
    }
   ],
   "source": [
    "t_even = t_ij[t_ij[\"i\"] % 2 == 0]\n",
    "format(t_even)"
   ]
  },
  {
   "cell_type": "markdown",
   "metadata": {},
   "source": [
    "For a quick glance, I can `SELECT` the first N rows of a table, like this:"
   ]
  },
  {
   "cell_type": "code",
   "execution_count": 7,
   "metadata": {},
   "outputs": [
    {
     "name": "stdout",
     "output_type": "stream",
     "text": [
      "WITH demo AS (TABLE demo),cte_1ce15e76cd294d73b91f9f7d712162aa AS (\n",
      "                SELECT i,j \n",
      "                FROM demo\n",
      "            ),cte_30ef2fb1aaee4624a867b1af8b7724d4 AS (SELECT * FROM cte_1ce15e76cd294d73b91f9f7d712162aa WHERE cte_1ce15e76cd294d73b91f9f7d712162aa.i %% 2 = 0)SELECT * FROM cte_30ef2fb1aaee4624a867b1af8b7724d4 LIMIT 3 \n"
     ]
    },
    {
     "data": {
      "text/html": [
       "<table>\n",
       "<thead>\n",
       "<tr><th style=\"text-align: right;\">  i</th><th style=\"text-align: right;\">  j</th></tr>\n",
       "</thead>\n",
       "<tbody>\n",
       "<tr><td style=\"text-align: right;\"> 10</td><td style=\"text-align: right;\"> 10</td></tr>\n",
       "<tr><td style=\"text-align: right;\">  2</td><td style=\"text-align: right;\">  2</td></tr>\n",
       "<tr><td style=\"text-align: right;\">  6</td><td style=\"text-align: right;\">  6</td></tr>\n",
       "</tbody>\n",
       "</table>"
      ],
      "text/plain": [
       "'<table>\\n<thead>\\n<tr><th style=\"text-align: right;\">  i</th><th style=\"text-align: right;\">  j</th></tr>\\n</thead>\\n<tbody>\\n<tr><td style=\"text-align: right;\"> 10</td><td style=\"text-align: right;\"> 10</td></tr>\\n<tr><td style=\"text-align: right;\">  2</td><td style=\"text-align: right;\">  2</td></tr>\\n<tr><td style=\"text-align: right;\">  6</td><td style=\"text-align: right;\">  6</td></tr>\\n</tbody>\\n</table>'"
      ]
     },
     "execution_count": 7,
     "metadata": {},
     "output_type": "execute_result"
    }
   ],
   "source": [
    "t_n = t_even[:3]\n",
    "format(t_n)"
   ]
  },
  {
   "cell_type": "markdown",
   "metadata": {},
   "source": [
    "Finally when I am done, I can save the resulting table to the database, either temporarily or persistently:"
   ]
  },
  {
   "cell_type": "code",
   "execution_count": 8,
   "metadata": {},
   "outputs": [
    {
     "name": "stdout",
     "output_type": "stream",
     "text": [
      "WITH demo AS (TABLE demo),cte_1ce15e76cd294d73b91f9f7d712162aa AS (\n",
      "                SELECT i,j \n",
      "                FROM demo\n",
      "            ),cte_30ef2fb1aaee4624a867b1af8b7724d4 AS (SELECT * FROM cte_1ce15e76cd294d73b91f9f7d712162aa WHERE cte_1ce15e76cd294d73b91f9f7d712162aa.i %% 2 = 0)SELECT * FROM cte_30ef2fb1aaee4624a867b1af8b7724d4 LIMIT 3 \n",
      "\n",
      "            CREATE TEMP TABLE t_n (i,j) \n",
      "            AS WITH demo AS (TABLE demo),cte_1ce15e76cd294d73b91f9f7d712162aa AS (\n",
      "                SELECT i,j \n",
      "                FROM demo\n",
      "            ),cte_30ef2fb1aaee4624a867b1af8b7724d4 AS (SELECT * FROM cte_1ce15e76cd294d73b91f9f7d712162aa WHERE cte_1ce15e76cd294d73b91f9f7d712162aa.i %% 2 = 0)SELECT * FROM cte_30ef2fb1aaee4624a867b1af8b7724d4 LIMIT 3 \n",
      "            \n"
     ]
    },
    {
     "data": {
      "text/plain": [
       "<greenplumpython.table.Table at 0x7f74300e9a20>"
      ]
     },
     "execution_count": 8,
     "metadata": {},
     "output_type": "execute_result"
    }
   ],
   "source": [
    "t_n.save_as(table_name=\"t_n\", temp=True)"
   ]
  },
  {
   "cell_type": "markdown",
   "metadata": {},
   "source": [
    "# `JOIN`-ing Two Tables\n",
    "\n",
    "We can also `JOIN` two tables with GreenplumPython. For example, suppose we have two tables like this:"
   ]
  },
  {
   "cell_type": "code",
   "execution_count": 9,
   "metadata": {},
   "outputs": [
    {
     "name": "stdout",
     "output_type": "stream",
     "text": [
      "SELECT * FROM (VALUES (1,'a'),(2,'b'),(3,'c'),(4,'d')) AS vals (id, val)\n"
     ]
    },
    {
     "data": {
      "text/html": [
       "<table>\n",
       "<thead>\n",
       "<tr><th style=\"text-align: right;\">  id</th><th>val  </th></tr>\n",
       "</thead>\n",
       "<tbody>\n",
       "<tr><td style=\"text-align: right;\">   1</td><td>a    </td></tr>\n",
       "<tr><td style=\"text-align: right;\">   2</td><td>b    </td></tr>\n",
       "<tr><td style=\"text-align: right;\">   3</td><td>c    </td></tr>\n",
       "<tr><td style=\"text-align: right;\">   4</td><td>d    </td></tr>\n",
       "</tbody>\n",
       "</table>"
      ],
      "text/plain": [
       "'<table>\\n<thead>\\n<tr><th style=\"text-align: right;\">  id</th><th>val  </th></tr>\\n</thead>\\n<tbody>\\n<tr><td style=\"text-align: right;\">   1</td><td>a    </td></tr>\\n<tr><td style=\"text-align: right;\">   2</td><td>b    </td></tr>\\n<tr><td style=\"text-align: right;\">   3</td><td>c    </td></tr>\\n<tr><td style=\"text-align: right;\">   4</td><td>d    </td></tr>\\n</tbody>\\n</table>'"
      ]
     },
     "execution_count": 9,
     "metadata": {},
     "output_type": "execute_result"
    }
   ],
   "source": [
    "rows = [(1, \"'a'\",), (2, \"'b'\",), (3, \"'c'\",), (4, \"'d'\")]\n",
    "t1 = gp.values(rows, db=db, column_names=[\"id, val\"])\n",
    "format(t1)"
   ]
  },
  {
   "cell_type": "code",
   "execution_count": 10,
   "metadata": {},
   "outputs": [
    {
     "name": "stdout",
     "output_type": "stream",
     "text": [
      "SELECT * FROM (VALUES (1,'a'),(2,'b'),(3,'a'),(4,'b')) AS vals (id, val)\n"
     ]
    },
    {
     "data": {
      "text/html": [
       "<table>\n",
       "<thead>\n",
       "<tr><th style=\"text-align: right;\">  id</th><th>val  </th></tr>\n",
       "</thead>\n",
       "<tbody>\n",
       "<tr><td style=\"text-align: right;\">   1</td><td>a    </td></tr>\n",
       "<tr><td style=\"text-align: right;\">   2</td><td>b    </td></tr>\n",
       "<tr><td style=\"text-align: right;\">   3</td><td>a    </td></tr>\n",
       "<tr><td style=\"text-align: right;\">   4</td><td>b    </td></tr>\n",
       "</tbody>\n",
       "</table>"
      ],
      "text/plain": [
       "'<table>\\n<thead>\\n<tr><th style=\"text-align: right;\">  id</th><th>val  </th></tr>\\n</thead>\\n<tbody>\\n<tr><td style=\"text-align: right;\">   1</td><td>a    </td></tr>\\n<tr><td style=\"text-align: right;\">   2</td><td>b    </td></tr>\\n<tr><td style=\"text-align: right;\">   3</td><td>a    </td></tr>\\n<tr><td style=\"text-align: right;\">   4</td><td>b    </td></tr>\\n</tbody>\\n</table>'"
      ]
     },
     "execution_count": 10,
     "metadata": {},
     "output_type": "execute_result"
    }
   ],
   "source": [
    "rows = [(1, \"'a'\",), (2, \"'b'\",), (3, \"'a'\",), (4, \"'b'\")]\n",
    "t2 = gp.values(rows, db=db, column_names=[\"id, val\"])\n",
    "format(t2)"
   ]
  },
  {
   "cell_type": "markdown",
   "metadata": {},
   "source": [
    "We can `JOIN` the two table like this:"
   ]
  },
  {
   "cell_type": "code",
   "execution_count": 11,
   "metadata": {},
   "outputs": [
    {
     "name": "stdout",
     "output_type": "stream",
     "text": [
      "WITH cte_14860c4cfd414f0fa123dcd3f5af85a6 AS (SELECT * FROM (VALUES (1,'a'),(2,'b'),(3,'a'),(4,'b')) AS vals (id, val)),cte_e8860a621e9b4ebbb91343b1124794c2 AS (SELECT * FROM (VALUES (1,'a'),(2,'b'),(3,'c'),(4,'d')) AS vals (id, val))\n",
      "                SELECT cte_e8860a621e9b4ebbb91343b1124794c2.id AS t1_id,cte_e8860a621e9b4ebbb91343b1124794c2.val AS t1_val,cte_14860c4cfd414f0fa123dcd3f5af85a6.id AS t2_id,cte_14860c4cfd414f0fa123dcd3f5af85a6.val AS t2_val \n",
      "                FROM cte_e8860a621e9b4ebbb91343b1124794c2 INNER JOIN cte_14860c4cfd414f0fa123dcd3f5af85a6\n",
      "                ON cte_e8860a621e9b4ebbb91343b1124794c2.val = cte_14860c4cfd414f0fa123dcd3f5af85a6.val  \n",
      "            \n"
     ]
    },
    {
     "data": {
      "text/html": [
       "<table>\n",
       "<thead>\n",
       "<tr><th style=\"text-align: right;\">  t1_id</th><th>t1_val  </th><th style=\"text-align: right;\">  t2_id</th><th>t2_val  </th></tr>\n",
       "</thead>\n",
       "<tbody>\n",
       "<tr><td style=\"text-align: right;\">      1</td><td>a       </td><td style=\"text-align: right;\">      3</td><td>a       </td></tr>\n",
       "<tr><td style=\"text-align: right;\">      1</td><td>a       </td><td style=\"text-align: right;\">      1</td><td>a       </td></tr>\n",
       "<tr><td style=\"text-align: right;\">      2</td><td>b       </td><td style=\"text-align: right;\">      4</td><td>b       </td></tr>\n",
       "<tr><td style=\"text-align: right;\">      2</td><td>b       </td><td style=\"text-align: right;\">      2</td><td>b       </td></tr>\n",
       "</tbody>\n",
       "</table>"
      ],
      "text/plain": [
       "'<table>\\n<thead>\\n<tr><th style=\"text-align: right;\">  t1_id</th><th>t1_val  </th><th style=\"text-align: right;\">  t2_id</th><th>t2_val  </th></tr>\\n</thead>\\n<tbody>\\n<tr><td style=\"text-align: right;\">      1</td><td>a       </td><td style=\"text-align: right;\">      3</td><td>a       </td></tr>\\n<tr><td style=\"text-align: right;\">      1</td><td>a       </td><td style=\"text-align: right;\">      1</td><td>a       </td></tr>\\n<tr><td style=\"text-align: right;\">      2</td><td>b       </td><td style=\"text-align: right;\">      4</td><td>b       </td></tr>\\n<tr><td style=\"text-align: right;\">      2</td><td>b       </td><td style=\"text-align: right;\">      2</td><td>b       </td></tr>\\n</tbody>\\n</table>'"
      ]
     },
     "execution_count": 11,
     "metadata": {},
     "output_type": "execute_result"
    }
   ],
   "source": [
    "t_join = t1.join(\n",
    "    t2,\n",
    "    cond=t1[\"val\"] == t2[\"val\"],\n",
    "    targets=[\n",
    "        t1[\"id\"].rename(\"t1_id\"),\n",
    "        t1[\"val\"].rename(\"t1_val\"),\n",
    "        t2[\"id\"].rename(\"t2_id\"),\n",
    "        t2[\"val\"].rename(\"t2_val\"),\n",
    "    ],\n",
    ")\n",
    "format(t_join)\n"
   ]
  },
  {
   "cell_type": "markdown",
   "metadata": {},
   "source": [
    "# Creating and Calling Functions\n",
    "\n",
    "Calling functions is essential for data analytics. GreeenplumPython supports creating Greenplum UDFs and UDAs from Python functions and calling them in Python.\n",
    "\n",
    "Suppose I have a table of numbers:"
   ]
  },
  {
   "cell_type": "code",
   "execution_count": 12,
   "metadata": {},
   "outputs": [
    {
     "name": "stdout",
     "output_type": "stream",
     "text": [
      "SELECT * FROM (VALUES (0),(1),(2),(3),(4),(5),(6),(7),(8),(9)) AS vals (val)\n"
     ]
    },
    {
     "data": {
      "text/html": [
       "<table>\n",
       "<thead>\n",
       "<tr><th style=\"text-align: right;\">  val</th></tr>\n",
       "</thead>\n",
       "<tbody>\n",
       "<tr><td style=\"text-align: right;\">    0</td></tr>\n",
       "<tr><td style=\"text-align: right;\">    1</td></tr>\n",
       "<tr><td style=\"text-align: right;\">    2</td></tr>\n",
       "<tr><td style=\"text-align: right;\">    3</td></tr>\n",
       "<tr><td style=\"text-align: right;\">    4</td></tr>\n",
       "<tr><td style=\"text-align: right;\">    5</td></tr>\n",
       "<tr><td style=\"text-align: right;\">    6</td></tr>\n",
       "<tr><td style=\"text-align: right;\">    7</td></tr>\n",
       "<tr><td style=\"text-align: right;\">    8</td></tr>\n",
       "<tr><td style=\"text-align: right;\">    9</td></tr>\n",
       "</tbody>\n",
       "</table>"
      ],
      "text/plain": [
       "'<table>\\n<thead>\\n<tr><th style=\"text-align: right;\">  val</th></tr>\\n</thead>\\n<tbody>\\n<tr><td style=\"text-align: right;\">    0</td></tr>\\n<tr><td style=\"text-align: right;\">    1</td></tr>\\n<tr><td style=\"text-align: right;\">    2</td></tr>\\n<tr><td style=\"text-align: right;\">    3</td></tr>\\n<tr><td style=\"text-align: right;\">    4</td></tr>\\n<tr><td style=\"text-align: right;\">    5</td></tr>\\n<tr><td style=\"text-align: right;\">    6</td></tr>\\n<tr><td style=\"text-align: right;\">    7</td></tr>\\n<tr><td style=\"text-align: right;\">    8</td></tr>\\n<tr><td style=\"text-align: right;\">    9</td></tr>\\n</tbody>\\n</table>'"
      ]
     },
     "execution_count": 12,
     "metadata": {},
     "output_type": "execute_result"
    }
   ],
   "source": [
    "rows = [(i,) for i in range(10)]\n",
    "numbers = gp.values(rows, db=db, column_names=[\"val\"])\n",
    "format(numbers)"
   ]
  },
  {
   "cell_type": "markdown",
   "metadata": {},
   "source": [
    "If I want to get the square of each number, I can write a function to do that:"
   ]
  },
  {
   "cell_type": "code",
   "execution_count": 13,
   "metadata": {},
   "outputs": [
    {
     "name": "stdout",
     "output_type": "stream",
     "text": [
      "CREATE  FUNCTION pg_temp.square (a integer) RETURNS integer LANGUAGE plpython3u AS $$\n",
      "return a ** 2 $$\n",
      "WITH cte_c3797751b29b4058b13e3db881f4d297 AS (SELECT * FROM (VALUES (0),(1),(2),(3),(4),(5),(6),(7),(8),(9)) AS vals (val)),cte_78874cfa108b40788b9e6c759c986e05 AS (SELECT pg_temp.square(cte_c3797751b29b4058b13e3db881f4d297.val) AS result  FROM cte_c3797751b29b4058b13e3db881f4d297 )SELECT * FROM cte_78874cfa108b40788b9e6c759c986e05\n"
     ]
    },
    {
     "data": {
      "text/html": [
       "<table>\n",
       "<thead>\n",
       "<tr><th style=\"text-align: right;\">  result</th></tr>\n",
       "</thead>\n",
       "<tbody>\n",
       "<tr><td style=\"text-align: right;\">       0</td></tr>\n",
       "<tr><td style=\"text-align: right;\">       1</td></tr>\n",
       "<tr><td style=\"text-align: right;\">       4</td></tr>\n",
       "<tr><td style=\"text-align: right;\">       9</td></tr>\n",
       "<tr><td style=\"text-align: right;\">      16</td></tr>\n",
       "<tr><td style=\"text-align: right;\">      25</td></tr>\n",
       "<tr><td style=\"text-align: right;\">      36</td></tr>\n",
       "<tr><td style=\"text-align: right;\">      49</td></tr>\n",
       "<tr><td style=\"text-align: right;\">      64</td></tr>\n",
       "<tr><td style=\"text-align: right;\">      81</td></tr>\n",
       "</tbody>\n",
       "</table>"
      ],
      "text/plain": [
       "'<table>\\n<thead>\\n<tr><th style=\"text-align: right;\">  result</th></tr>\\n</thead>\\n<tbody>\\n<tr><td style=\"text-align: right;\">       0</td></tr>\\n<tr><td style=\"text-align: right;\">       1</td></tr>\\n<tr><td style=\"text-align: right;\">       4</td></tr>\\n<tr><td style=\"text-align: right;\">       9</td></tr>\\n<tr><td style=\"text-align: right;\">      16</td></tr>\\n<tr><td style=\"text-align: right;\">      25</td></tr>\\n<tr><td style=\"text-align: right;\">      36</td></tr>\\n<tr><td style=\"text-align: right;\">      49</td></tr>\\n<tr><td style=\"text-align: right;\">      64</td></tr>\\n<tr><td style=\"text-align: right;\">      81</td></tr>\\n</tbody>\\n</table>'"
      ]
     },
     "execution_count": 13,
     "metadata": {},
     "output_type": "execute_result"
    }
   ],
   "source": [
    "@gp.create_function(sig=\"(int, int)->int\", language_handler=\"plcontainer\")\n",
    "def square(a: int) -> int:\n",
    "    # container: plc_python_shared\n",
    "    return a ** 2\n",
    "\n",
    "format(square(numbers[\"val\"], as_name=\"result\", db=db).to_table())"
   ]
  },
  {
   "cell_type": "markdown",
   "metadata": {},
   "source": [
    "Note that this function is called in exactly the same way as ordinary Python functions.\n",
    "\n",
    "If I also want to get the sum of these numbers, what I need is to write an aggregate function like this:"
   ]
  },
  {
   "cell_type": "code",
   "execution_count": 14,
   "metadata": {},
   "outputs": [
    {
     "name": "stdout",
     "output_type": "stream",
     "text": [
      "CREATE  FUNCTION pg_temp.func_78d8e83b0058440aa48d13d6d573a720 (result integer,val integer) RETURNS integer LANGUAGE plpython3u AS $$\n",
      "if result is None:\n",
      "    return val\n",
      "return result + val $$\n",
      "\n",
      "            CREATE  AGGREGATE pg_temp.my_sum (val integer) (\n",
      "                SFUNC = pg_temp.func_78d8e83b0058440aa48d13d6d573a720,\n",
      "                STYPE = integer\n",
      "            )\n",
      "            \n",
      "WITH cte_c3797751b29b4058b13e3db881f4d297 AS (SELECT * FROM (VALUES (0),(1),(2),(3),(4),(5),(6),(7),(8),(9)) AS vals (val)),cte_cff579bcb5b14b0f85ccaff8cf38d62b AS (SELECT pg_temp.my_sum(cte_c3797751b29b4058b13e3db881f4d297.val) AS result  FROM cte_c3797751b29b4058b13e3db881f4d297 )SELECT * FROM cte_cff579bcb5b14b0f85ccaff8cf38d62b\n"
     ]
    },
    {
     "data": {
      "text/html": [
       "<table>\n",
       "<thead>\n",
       "<tr><th style=\"text-align: right;\">  result</th></tr>\n",
       "</thead>\n",
       "<tbody>\n",
       "<tr><td style=\"text-align: right;\">      45</td></tr>\n",
       "</tbody>\n",
       "</table>"
      ],
      "text/plain": [
       "'<table>\\n<thead>\\n<tr><th style=\"text-align: right;\">  result</th></tr>\\n</thead>\\n<tbody>\\n<tr><td style=\"text-align: right;\">      45</td></tr>\\n</tbody>\\n</table>'"
      ]
     },
     "execution_count": 14,
     "metadata": {},
     "output_type": "execute_result"
    }
   ],
   "source": [
    "@gp.create_aggregate\n",
    "def my_sum(result: int, val: int) -> int:\n",
    "    if result is None:\n",
    "        return val\n",
    "    return result + val\n",
    "\n",
    "format(my_sum(numbers[\"val\"], as_name=\"result\", db=db).to_table())\n",
    "\n",
    "\n",
    "@gp.create_array_function\n",
    "def my_sum_arr(val_array: List[int], val2_array: List[int]) -> int:\n",
    "    return sum(val_array)\n",
    "\n",
    "# -> SELECT my_sum(array_agg(val), array_agg(val2)) FROM numbers;\n",
    "format(my_sum_arr(numbers[\"val\"], numbers[\"val2\"], as_name=\"result\", db=db).to_table())    \n"
   ]
  },
  {
   "cell_type": "code",
   "execution_count": 16,
   "metadata": {},
   "outputs": [
    {
     "name": "stdout",
     "output_type": "stream",
     "text": [
      "SELECT * FROM (VALUES (0,True),(1,False),(2,True),(3,False),(4,True),(5,False),(6,True),(7,False),(8,True),(9,False)) AS vals (val,is_even)\n"
     ]
    },
    {
     "data": {
      "text/html": [
       "<table>\n",
       "<thead>\n",
       "<tr><th style=\"text-align: right;\">  val</th><th>is_even  </th></tr>\n",
       "</thead>\n",
       "<tbody>\n",
       "<tr><td style=\"text-align: right;\">    0</td><td>True     </td></tr>\n",
       "<tr><td style=\"text-align: right;\">    1</td><td>False    </td></tr>\n",
       "<tr><td style=\"text-align: right;\">    2</td><td>True     </td></tr>\n",
       "<tr><td style=\"text-align: right;\">    3</td><td>False    </td></tr>\n",
       "<tr><td style=\"text-align: right;\">    4</td><td>True     </td></tr>\n",
       "<tr><td style=\"text-align: right;\">    5</td><td>False    </td></tr>\n",
       "<tr><td style=\"text-align: right;\">    6</td><td>True     </td></tr>\n",
       "<tr><td style=\"text-align: right;\">    7</td><td>False    </td></tr>\n",
       "<tr><td style=\"text-align: right;\">    8</td><td>True     </td></tr>\n",
       "<tr><td style=\"text-align: right;\">    9</td><td>False    </td></tr>\n",
       "</tbody>\n",
       "</table>"
      ],
      "text/plain": [
       "'<table>\\n<thead>\\n<tr><th style=\"text-align: right;\">  val</th><th>is_even  </th></tr>\\n</thead>\\n<tbody>\\n<tr><td style=\"text-align: right;\">    0</td><td>True     </td></tr>\\n<tr><td style=\"text-align: right;\">    1</td><td>False    </td></tr>\\n<tr><td style=\"text-align: right;\">    2</td><td>True     </td></tr>\\n<tr><td style=\"text-align: right;\">    3</td><td>False    </td></tr>\\n<tr><td style=\"text-align: right;\">    4</td><td>True     </td></tr>\\n<tr><td style=\"text-align: right;\">    5</td><td>False    </td></tr>\\n<tr><td style=\"text-align: right;\">    6</td><td>True     </td></tr>\\n<tr><td style=\"text-align: right;\">    7</td><td>False    </td></tr>\\n<tr><td style=\"text-align: right;\">    8</td><td>True     </td></tr>\\n<tr><td style=\"text-align: right;\">    9</td><td>False    </td></tr>\\n</tbody>\\n</table>'"
      ]
     },
     "execution_count": 16,
     "metadata": {},
     "output_type": "execute_result"
    }
   ],
   "source": [
    "rows = [(i, i % 2 == 0) for i in range(10)]\n",
    "numbers = gp.values(rows, db=db, column_names=[\"val\", \"is_even\"])\n",
    "format(numbers)"
   ]
  },
  {
   "cell_type": "code",
   "execution_count": 17,
   "metadata": {},
   "outputs": [
    {
     "name": "stdout",
     "output_type": "stream",
     "text": [
      "WITH cte_1cf9bda316de4934850da7e26e225ead AS (SELECT * FROM (VALUES (0,True),(1,False),(2,True),(3,False),(4,True),(5,False),(6,True),(7,False),(8,True),(9,False)) AS vals (val,is_even)),cte_407083b0934f4ab0b9f957e9050a4004 AS (SELECT count(cte_1cf9bda316de4934850da7e26e225ead.val)  ,is_even FROM cte_1cf9bda316de4934850da7e26e225ead GROUP BY is_even)SELECT * FROM cte_407083b0934f4ab0b9f957e9050a4004\n"
     ]
    },
    {
     "data": {
      "text/html": [
       "<table>\n",
       "<thead>\n",
       "<tr><th style=\"text-align: right;\">  count</th><th>is_even  </th></tr>\n",
       "</thead>\n",
       "<tbody>\n",
       "<tr><td style=\"text-align: right;\">      5</td><td>False    </td></tr>\n",
       "<tr><td style=\"text-align: right;\">      5</td><td>True     </td></tr>\n",
       "</tbody>\n",
       "</table>"
      ],
      "text/plain": [
       "'<table>\\n<thead>\\n<tr><th style=\"text-align: right;\">  count</th><th>is_even  </th></tr>\\n</thead>\\n<tbody>\\n<tr><td style=\"text-align: right;\">      5</td><td>False    </td></tr>\\n<tr><td style=\"text-align: right;\">      5</td><td>True     </td></tr>\\n</tbody>\\n</table>'"
      ]
     },
     "execution_count": 17,
     "metadata": {},
     "output_type": "execute_result"
    }
   ],
   "source": [
    "count = gp.aggregate(\"count\", db=db)\n",
    "\n",
    "results = count(numbers[\"val\"], group_by=[\"is_even\"]).to_table()\n",
    "format(results)"
   ]
  }
 ],
 "metadata": {
  "kernelspec": {
   "display_name": "Python 3.6.8 64-bit",
   "language": "python",
   "name": "python3"
  },
  "language_info": {
   "codemirror_mode": {
    "name": "ipython",
    "version": 3
   },
   "file_extension": ".py",
   "mimetype": "text/x-python",
   "name": "python",
   "nbconvert_exporter": "python",
   "pygments_lexer": "ipython3",
   "version": "3.6.8"
  },
  "orig_nbformat": 4,
  "vscode": {
   "interpreter": {
    "hash": "916dbcbb3f70747c44a77c7bcd40155683ae19c65e1c03b4aa3499c5328201f1"
   }
  }
 },
 "nbformat": 4,
 "nbformat_minor": 2
}