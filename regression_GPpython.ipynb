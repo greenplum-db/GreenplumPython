{
 "cells": [
  {
   "cell_type": "markdown",
   "metadata": {
    "collapsed": true,
    "pycharm": {
     "name": "#%% md\n"
    }
   },
   "source": [
    "# Data Science on Python with GreenplumPython\n",
    "**Background:**\n",
    "\n",
    "Predicting the age of abalone from physical measurements.  The age of abalone is determined by cutting the shell through the cone, staining it, and counting the number of rings through a microscope -- a boring and time-consuming task.  Other measurements, which are easier to obtain, are used to predict the age.\n",
    "\n",
    "**Problem:**\n",
    "\n",
    "Build regression models by ‘sex’ which can predict ‘the number of rings’ of abalone."
   ]
  },
  {
   "cell_type": "markdown",
   "metadata": {
    "pycharm": {
     "name": "#%% md\n"
    }
   },
   "source": [
    "# Fetch data from ML data repository"
   ]
  },
  {
   "cell_type": "markdown",
   "metadata": {},
   "source": [
    "We assume we have already table abalone in Database."
   ]
  },
  {
   "cell_type": "code",
   "execution_count": null,
   "metadata": {
    "pycharm": {
     "name": "#%% md\n"
    }
   },
   "outputs": [],
   "source": [
    "%%sql\n",
    "-- External Table\n",
    "DROP EXTERNAL TABLE IF EXISTS abalone_external;\n",
    "CREATE EXTERNAL WEB TABLE abalone_external(\n",
    "    sex text\n",
    "    , length float8\n",
    "    , diameter float8\n",
    "    , height float8\n",
    "    , whole_weight float8\n",
    "    , shucked_weight float8\n",
    "    , viscera_weight float8\n",
    "    , shell_weight float8\n",
    "    , rings integer -- target variable to predict\n",
    ") location('http://archive.ics.uci.edu/ml/machine-learning-databases/abalone/abalone.data')\n",
    "format 'CSV'\n",
    "(null as '?');"
   ]
  },
  {
   "cell_type": "code",
   "execution_count": null,
   "metadata": {
    "pycharm": {
     "name": "#%% md\n"
    }
   },
   "outputs": [],
   "source": [
    "%%sql\n",
    "-- Create abalone table from an external table\n",
    "DROP TABLE IF EXISTS abalone;\n",
    "CREATE TABLE abalone AS (\n",
    "    SELECT ROW_NUMBER() OVER() AS id, *\n",
    "    FROM abalone_external\n",
    ") DISTRIBUTED BY (sex);"
   ]
  },
  {
   "cell_type": "markdown",
   "metadata": {
    "pycharm": {
     "name": "#%% md\n"
    }
   },
   "source": [
    "# Import preparation"
   ]
  },
  {
   "cell_type": "code",
   "execution_count": 1,
   "metadata": {
    "pycharm": {
     "name": "#%%\n"
    }
   },
   "outputs": [],
   "source": [
    "import greenplumpython as gp"
   ]
  },
  {
   "cell_type": "markdown",
   "metadata": {},
   "source": [
    "We haven't decided yet how to implement this display functionality, so for the moment just put this function in the cell."
   ]
  },
  {
   "cell_type": "code",
   "execution_count": 2,
   "metadata": {
    "pycharm": {
     "name": "#%%\n"
    }
   },
   "outputs": [],
   "source": [
    "from tabulate import tabulate\n",
    "def display(table: gp.Table):\n",
    "    return tabulate(table.fetch(), headers=\"keys\", tablefmt=\"html\")"
   ]
  },
  {
   "cell_type": "markdown",
   "metadata": {
    "pycharm": {
     "name": "#%% md\n"
    }
   },
   "source": [
    "## Data preparation"
   ]
  },
  {
   "cell_type": "code",
   "execution_count": 3,
   "metadata": {
    "pycharm": {
     "name": "#%%\n"
    }
   },
   "outputs": [],
   "source": [
    "db = gp.database(host=\"localhost\", dbname=\"postgres\", user=\"gpadmin\", password=\"....\")"
   ]
  },
  {
   "cell_type": "markdown",
   "metadata": {
    "pycharm": {
     "name": "#%% md\n"
    }
   },
   "source": [
    "# Data Exploration"
   ]
  },
  {
   "cell_type": "markdown",
   "metadata": {},
   "source": [
    "Get access to existed table \"abalone\""
   ]
  },
  {
   "cell_type": "code",
   "execution_count": 4,
   "metadata": {
    "pycharm": {
     "name": "#%%\n"
    }
   },
   "outputs": [],
   "source": [
    "abalone = gp.table(\"abalone\", db)"
   ]
  },
  {
   "cell_type": "markdown",
   "metadata": {},
   "source": [
    "Take a look on table"
   ]
  },
  {
   "cell_type": "code",
   "execution_count": 5,
   "metadata": {
    "pycharm": {
     "name": "#%%\n"
    }
   },
   "outputs": [
    {
     "data": {
      "text/html": [
       "<table>\n",
       "<thead>\n",
       "<tr><th style=\"text-align: right;\">  id</th><th>sex  </th><th style=\"text-align: right;\">  length</th><th style=\"text-align: right;\">  diameter</th><th style=\"text-align: right;\">  height</th><th style=\"text-align: right;\">  whole_weight</th><th style=\"text-align: right;\">  shucked_weight</th><th style=\"text-align: right;\">  viscera_weight</th><th style=\"text-align: right;\">  shell_weight</th><th style=\"text-align: right;\">  rings</th></tr>\n",
       "</thead>\n",
       "<tbody>\n",
       "<tr><td style=\"text-align: right;\">   1</td><td>M    </td><td style=\"text-align: right;\">   0.455</td><td style=\"text-align: right;\">     0.365</td><td style=\"text-align: right;\">   0.095</td><td style=\"text-align: right;\">        0.514 </td><td style=\"text-align: right;\">          0.2245</td><td style=\"text-align: right;\">          0.101 </td><td style=\"text-align: right;\">         0.15 </td><td style=\"text-align: right;\">     15</td></tr>\n",
       "<tr><td style=\"text-align: right;\">   2</td><td>M    </td><td style=\"text-align: right;\">   0.35 </td><td style=\"text-align: right;\">     0.265</td><td style=\"text-align: right;\">   0.09 </td><td style=\"text-align: right;\">        0.2255</td><td style=\"text-align: right;\">          0.0995</td><td style=\"text-align: right;\">          0.0485</td><td style=\"text-align: right;\">         0.07 </td><td style=\"text-align: right;\">      7</td></tr>\n",
       "<tr><td style=\"text-align: right;\">   3</td><td>F    </td><td style=\"text-align: right;\">   0.53 </td><td style=\"text-align: right;\">     0.42 </td><td style=\"text-align: right;\">   0.135</td><td style=\"text-align: right;\">        0.677 </td><td style=\"text-align: right;\">          0.2565</td><td style=\"text-align: right;\">          0.1415</td><td style=\"text-align: right;\">         0.21 </td><td style=\"text-align: right;\">      9</td></tr>\n",
       "<tr><td style=\"text-align: right;\">   4</td><td>M    </td><td style=\"text-align: right;\">   0.44 </td><td style=\"text-align: right;\">     0.365</td><td style=\"text-align: right;\">   0.125</td><td style=\"text-align: right;\">        0.516 </td><td style=\"text-align: right;\">          0.2155</td><td style=\"text-align: right;\">          0.114 </td><td style=\"text-align: right;\">         0.155</td><td style=\"text-align: right;\">     10</td></tr>\n",
       "<tr><td style=\"text-align: right;\">   5</td><td>I    </td><td style=\"text-align: right;\">   0.33 </td><td style=\"text-align: right;\">     0.255</td><td style=\"text-align: right;\">   0.08 </td><td style=\"text-align: right;\">        0.205 </td><td style=\"text-align: right;\">          0.0895</td><td style=\"text-align: right;\">          0.0395</td><td style=\"text-align: right;\">         0.055</td><td style=\"text-align: right;\">      7</td></tr>\n",
       "</tbody>\n",
       "</table>"
      ],
      "text/plain": [
       "'<table>\\n<thead>\\n<tr><th style=\"text-align: right;\">  id</th><th>sex  </th><th style=\"text-align: right;\">  length</th><th style=\"text-align: right;\">  diameter</th><th style=\"text-align: right;\">  height</th><th style=\"text-align: right;\">  whole_weight</th><th style=\"text-align: right;\">  shucked_weight</th><th style=\"text-align: right;\">  viscera_weight</th><th style=\"text-align: right;\">  shell_weight</th><th style=\"text-align: right;\">  rings</th></tr>\\n</thead>\\n<tbody>\\n<tr><td style=\"text-align: right;\">   1</td><td>M    </td><td style=\"text-align: right;\">   0.455</td><td style=\"text-align: right;\">     0.365</td><td style=\"text-align: right;\">   0.095</td><td style=\"text-align: right;\">        0.514 </td><td style=\"text-align: right;\">          0.2245</td><td style=\"text-align: right;\">          0.101 </td><td style=\"text-align: right;\">         0.15 </td><td style=\"text-align: right;\">     15</td></tr>\\n<tr><td style=\"text-align: right;\">   2</td><td>M    </td><td style=\"text-align: right;\">   0.35 </td><td style=\"text-align: right;\">     0.265</td><td style=\"text-align: right;\">   0.09 </td><td style=\"text-align: right;\">        0.2255</td><td style=\"text-align: right;\">          0.0995</td><td style=\"text-align: right;\">          0.0485</td><td style=\"text-align: right;\">         0.07 </td><td style=\"text-align: right;\">      7</td></tr>\\n<tr><td style=\"text-align: right;\">   3</td><td>F    </td><td style=\"text-align: right;\">   0.53 </td><td style=\"text-align: right;\">     0.42 </td><td style=\"text-align: right;\">   0.135</td><td style=\"text-align: right;\">        0.677 </td><td style=\"text-align: right;\">          0.2565</td><td style=\"text-align: right;\">          0.1415</td><td style=\"text-align: right;\">         0.21 </td><td style=\"text-align: right;\">      9</td></tr>\\n<tr><td style=\"text-align: right;\">   4</td><td>M    </td><td style=\"text-align: right;\">   0.44 </td><td style=\"text-align: right;\">     0.365</td><td style=\"text-align: right;\">   0.125</td><td style=\"text-align: right;\">        0.516 </td><td style=\"text-align: right;\">          0.2155</td><td style=\"text-align: right;\">          0.114 </td><td style=\"text-align: right;\">         0.155</td><td style=\"text-align: right;\">     10</td></tr>\\n<tr><td style=\"text-align: right;\">   5</td><td>I    </td><td style=\"text-align: right;\">   0.33 </td><td style=\"text-align: right;\">     0.255</td><td style=\"text-align: right;\">   0.08 </td><td style=\"text-align: right;\">        0.205 </td><td style=\"text-align: right;\">          0.0895</td><td style=\"text-align: right;\">          0.0395</td><td style=\"text-align: right;\">         0.055</td><td style=\"text-align: right;\">      7</td></tr>\\n</tbody>\\n</table>'"
      ]
     },
     "execution_count": 5,
     "metadata": {},
     "output_type": "execute_result"
    }
   ],
   "source": [
    "# SELECT * FROM abalone ORDER BY id LIMIT 5;\n",
    "\n",
    "display(abalone.top(5, [\"id\"]))"
   ]
  },
  {
   "cell_type": "markdown",
   "metadata": {},
   "source": [
    "Observe the distribution of data on different segments : apply aggregate on columns"
   ]
  },
  {
   "cell_type": "code",
   "execution_count": 6,
   "metadata": {
    "pycharm": {
     "name": "#%%\n"
    }
   },
   "outputs": [
    {
     "data": {
      "text/html": [
       "<table>\n",
       "<thead>\n",
       "<tr><th style=\"text-align: right;\">  count</th><th style=\"text-align: right;\">  gp_segment_id</th></tr>\n",
       "</thead>\n",
       "<tbody>\n",
       "<tr><td style=\"text-align: right;\">   1307</td><td style=\"text-align: right;\">              2</td></tr>\n",
       "<tr><td style=\"text-align: right;\">   2870</td><td style=\"text-align: right;\">              1</td></tr>\n",
       "</tbody>\n",
       "</table>"
      ],
      "text/plain": [
       "'<table>\\n<thead>\\n<tr><th style=\"text-align: right;\">  count</th><th style=\"text-align: right;\">  gp_segment_id</th></tr>\\n</thead>\\n<tbody>\\n<tr><td style=\"text-align: right;\">   1307</td><td style=\"text-align: right;\">              2</td></tr>\\n<tr><td style=\"text-align: right;\">   2870</td><td style=\"text-align: right;\">              1</td></tr>\\n</tbody>\\n</table>'"
      ]
     },
     "execution_count": 6,
     "metadata": {},
     "output_type": "execute_result"
    }
   ],
   "source": [
    "# SELECT gp_segment_id, COUNT(*) \n",
    "# FROM abalone\n",
    "# GROUP BY 1\n",
    "# ORDER BY gp_segment_id;\n",
    "\n",
    "count = gp.aggregate(\"count\", db) # -- Get access to existing aggregate in Greenplum\n",
    "display(count(abalone[\"id\"], group_by=[\"gp_segment_id\"]).to_table())"
   ]
  },
  {
   "cell_type": "markdown",
   "metadata": {
    "pycharm": {
     "name": "#%% md\n"
    }
   },
   "source": [
    "# Train Test set split"
   ]
  },
  {
   "cell_type": "markdown",
   "metadata": {},
   "source": [
    "GreenplumPython can also do what MADlib can do, for example, Train Test set to split.\n",
    "Here is one of the possibilities to achieve it.\n",
    "\n",
    "Firstly, we fetch a random value between 0 and 1 to each row. "
   ]
  },
  {
   "cell_type": "code",
   "execution_count": 7,
   "metadata": {
    "pycharm": {
     "name": "#%%\n"
    }
   },
   "outputs": [],
   "source": [
    "# SELECT *, random() AS __samp_out_label FROM abalone\n",
    "\n",
    "temp_abalone_label = abalone[[\"*\", \"random() AS __samp_out_label\"]]"
   ]
  },
  {
   "cell_type": "markdown",
   "metadata": {},
   "source": [
    "Then we create a percentile table that stores percentile values for each sex."
   ]
  },
  {
   "cell_type": "code",
   "execution_count": 8,
   "metadata": {
    "pycharm": {
     "name": "#%%\n"
    }
   },
   "outputs": [],
   "source": [
    "# SELECT sex, percentile_disc(0.8) with GROUP (ORDER BY __samp_out_label) AS __samp_out_label\n",
    "# FROM temp_abalone_label GROUP BY sex\n",
    "\n",
    "percentile_disc = gp.ordered_aggregate(\"percentile_disc\", db=db)\n",
    "temp_abalone_train_perc = percentile_disc(\n",
    "    0.8,\n",
    "    group_by=[\"sex\"],\n",
    "    order_by=[temp_abalone_label[\"__samp_out_label\"]],\n",
    "    as_name=\"__samp_out_label\",\n",
    ").to_table()"
   ]
  },
  {
   "cell_type": "code",
   "execution_count": 9,
   "metadata": {
    "pycharm": {
     "name": "#%%\n"
    }
   },
   "outputs": [],
   "source": [
    "temp_abalone_test_perc = percentile_disc(\n",
    "    0.2,\n",
    "    group_by=[\"sex\"],\n",
    "    order_by=[temp_abalone_label[\"__samp_out_label\"]],\n",
    "    as_name=\"__samp_out_label\",\n",
    ").to_table()"
   ]
  },
  {
   "cell_type": "markdown",
   "metadata": {},
   "source": [
    "Finally, we join those 2 tables to obtain our training or test tables."
   ]
  },
  {
   "cell_type": "code",
   "execution_count": 10,
   "metadata": {
    "pycharm": {
     "name": "#%%\n"
    }
   },
   "outputs": [
    {
     "data": {
      "text/html": [
       "<table>\n",
       "<thead>\n",
       "<tr><th style=\"text-align: right;\">  count</th><th>sex  </th></tr>\n",
       "</thead>\n",
       "<tbody>\n",
       "<tr><td style=\"text-align: right;\">   1012</td><td>F    </td></tr>\n",
       "<tr><td style=\"text-align: right;\">   1208</td><td>M    </td></tr>\n",
       "<tr><td style=\"text-align: right;\">   1092</td><td>I    </td></tr>\n",
       "</tbody>\n",
       "</table>"
      ],
      "text/plain": [
       "'<table>\\n<thead>\\n<tr><th style=\"text-align: right;\">  count</th><th>sex  </th></tr>\\n</thead>\\n<tbody>\\n<tr><td style=\"text-align: right;\">   1012</td><td>F    </td></tr>\\n<tr><td style=\"text-align: right;\">   1208</td><td>M    </td></tr>\\n<tr><td style=\"text-align: right;\">   1092</td><td>I    </td></tr>\\n</tbody>\\n</table>'"
      ]
     },
     "execution_count": 10,
     "metadata": {},
     "output_type": "execute_result"
    }
   ],
   "source": [
    "# SELECT * \n",
    "# FROM temp_abalone_label\n",
    "# INNER JOIN temp_abalone_train_perc\n",
    "# ON temp_abalone_label.__samp_out_label <= temp_abalone_train_perc.__samp_out_label\n",
    "# AND temp_abalone_label.sex = temp_abalone_train_perc.sex\n",
    "\n",
    "abalone_train = temp_abalone_label.inner_join(\n",
    "    temp_abalone_train_perc,\n",
    "    (temp_abalone_label[\"__samp_out_label\"] <= temp_abalone_train_perc[\"__samp_out_label\"]) \n",
    "    & (temp_abalone_label[\"sex\"] == temp_abalone_train_perc[\"sex\"]),\n",
    "    targets=[temp_abalone_label[\"*\"]]\n",
    ")\n",
    "display(count(abalone_train[\"*\"], group_by=[\"sex\"]).to_table())"
   ]
  },
  {
   "cell_type": "code",
   "execution_count": 11,
   "metadata": {
    "pycharm": {
     "name": "#%%\n"
    }
   },
   "outputs": [
    {
     "data": {
      "text/html": [
       "<table>\n",
       "<thead>\n",
       "<tr><th style=\"text-align: right;\">  count</th><th>sex  </th></tr>\n",
       "</thead>\n",
       "<tbody>\n",
       "<tr><td style=\"text-align: right;\">    297</td><td>F    </td></tr>\n",
       "<tr><td style=\"text-align: right;\">    324</td><td>M    </td></tr>\n",
       "<tr><td style=\"text-align: right;\">    293</td><td>I    </td></tr>\n",
       "</tbody>\n",
       "</table>"
      ],
      "text/plain": [
       "'<table>\\n<thead>\\n<tr><th style=\"text-align: right;\">  count</th><th>sex  </th></tr>\\n</thead>\\n<tbody>\\n<tr><td style=\"text-align: right;\">    297</td><td>F    </td></tr>\\n<tr><td style=\"text-align: right;\">    324</td><td>M    </td></tr>\\n<tr><td style=\"text-align: right;\">    293</td><td>I    </td></tr>\\n</tbody>\\n</table>'"
      ]
     },
     "execution_count": 11,
     "metadata": {},
     "output_type": "execute_result"
    }
   ],
   "source": [
    "abalone_test = temp_abalone_label.inner_join(\n",
    "    temp_abalone_test_perc,\n",
    "    (temp_abalone_label[\"__samp_out_label\"] <= temp_abalone_test_perc[\"__samp_out_label\"]) & (temp_abalone_label[\"sex\"] == temp_abalone_test_perc[\"sex\"]),\n",
    "    targets=[temp_abalone_label[\"*\"]]\n",
    ")\n",
    "display(count(abalone_test[\"*\"], group_by=[\"sex\"]).to_table())"
   ]
  },
  {
   "cell_type": "markdown",
   "metadata": {},
   "source": [
    "**gp.ordered_aggregate is not yet been included in beta version 2**"
   ]
  },
  {
   "cell_type": "markdown",
   "metadata": {},
   "source": [
    "# Execute the OLS Linear Regression Function by 'sex'"
   ]
  },
  {
   "cell_type": "code",
   "execution_count": 12,
   "metadata": {
    "pycharm": {
     "name": "#%%\n"
    }
   },
   "outputs": [],
   "source": [
    "from typing import List\n",
    "\n",
    "#CREATE TYPE plc_linreg_type AS (\n",
    "#    col_nm text[]\n",
    "#    , coef float8[]\n",
    "#    , intercept float8\n",
    "#    , serialized_linreg_model bytea\n",
    "#    , created_dt text\n",
    "#);\n",
    "\n",
    "class PlcLinregType:\n",
    "        col_nm: List[str]\n",
    "        coef: List[float]\n",
    "        intercept: float\n",
    "        serialized_linreg_model: bytes\n",
    "        created_dt: str\n",
    "            \n",
    "# -- Create function\n",
    "# -- Need to specify the return type -> API will create the corresponding type in Greenplum to return a row\n",
    "# -- Will add argument to change language extensions, currently plpython3u by default\n",
    "\n",
    "@gp.create_array_function\n",
    "def plc_linreg_func(length: List[float], shucked_weight: List[float], rings: List[int]) -> PlcLinregType:\n",
    "        from sklearn.linear_model import LinearRegression\n",
    "        import numpy as np\n",
    "\n",
    "        X = np.array([length, shucked_weight]).T\n",
    "        y = np.array([rings]).T\n",
    "\n",
    "        # OLS linear regression with length, shucked_weight\n",
    "        linreg_fit = LinearRegression().fit(X, y)\n",
    "        linreg_coef = linreg_fit.coef_\n",
    "        linreg_intercept = linreg_fit.intercept_\n",
    "\n",
    "        # Serialization of the fitted model\n",
    "        import six; import datetime\n",
    "        pickle = six.moves.cPickle\n",
    "        serialized_linreg_model = pickle.dumps(linreg_fit, protocol=2)\n",
    "\n",
    "        return {\n",
    "                'col_nm': ['length', 'shucked_weight'],\n",
    "                'coef': linreg_coef[0],\n",
    "                'intercept': linreg_intercept[0],\n",
    "                'serialized_linreg_model': serialized_linreg_model,\n",
    "                'created_dt': str(datetime.datetime.now())\n",
    "        }"
   ]
  },
  {
   "cell_type": "code",
   "execution_count": 13,
   "metadata": {
    "pycharm": {
     "name": "#%%\n"
    }
   },
   "outputs": [],
   "source": [
    "# DROP TABLE IF EXISTS plc_linreg_fitted;\n",
    "# CREATE TABLE plc_linreg_fitted AS (\n",
    "#    SELECT\n",
    "#        a.sex\n",
    "#        , (plc_linreg_func(\n",
    "#            a.length_agg\n",
    "#            , a.shucked_weight_agg\n",
    "#            , a.rings_agg)\n",
    "#        ).*\n",
    "#    FROM (\n",
    "#        SELECT\n",
    "#            sex\n",
    "#            , ARRAY_AGG(length) AS length_agg\n",
    "#            , ARRAY_AGG(shucked_weight) AS shucked_weight_agg\n",
    "#            , ARRAY_AGG(rings) AS rings_agg\n",
    "#        FROM abalone_split\n",
    "#        WHERE split = 1\n",
    "#        GROUP BY sex\n",
    "#    ) a\n",
    "#) DISTRIBUTED BY (sex);\n",
    "\n",
    "plc_linreg_fitted = plc_linreg_func(\n",
    "                                abalone_train[\"length\"],\n",
    "                                abalone_train[\"shucked_weight\"],\n",
    "                                abalone_train[\"rings\"], group_by=[\"sex\"]\n",
    ").to_table()"
   ]
  },
  {
   "cell_type": "code",
   "execution_count": 14,
   "metadata": {
    "pycharm": {
     "name": "#%%\n"
    }
   },
   "outputs": [
    {
     "data": {
      "text/html": [
       "<table>\n",
       "<thead>\n",
       "<tr><th>sex  </th><th>col_nm                      </th><th>coef                                    </th><th style=\"text-align: right;\">  intercept</th><th>created_dt                </th></tr>\n",
       "</thead>\n",
       "<tbody>\n",
       "<tr><td>F    </td><td>[&#x27;length&#x27;, &#x27;shucked_weight&#x27;]</td><td>[25.655445083760167, -8.681278374889335]</td><td style=\"text-align: right;\">   0.180538</td><td>2022-07-07 17:39:34.610881</td></tr>\n",
       "<tr><td>M    </td><td>[&#x27;length&#x27;, &#x27;shucked_weight&#x27;]</td><td>[23.788185330232736, -6.668176274823593]</td><td style=\"text-align: right;\">   0.303382</td><td>2022-07-07 17:39:34.611556</td></tr>\n",
       "<tr><td>I    </td><td>[&#x27;length&#x27;, &#x27;shucked_weight&#x27;]</td><td>[15.306253695675569, 0.6961453148775523]</td><td style=\"text-align: right;\">   1.23322 </td><td>2022-07-07 17:39:34.616763</td></tr>\n",
       "</tbody>\n",
       "</table>"
      ],
      "text/plain": [
       "'<table>\\n<thead>\\n<tr><th>sex  </th><th>col_nm                      </th><th>coef                                    </th><th style=\"text-align: right;\">  intercept</th><th>created_dt                </th></tr>\\n</thead>\\n<tbody>\\n<tr><td>F    </td><td>[&#x27;length&#x27;, &#x27;shucked_weight&#x27;]</td><td>[25.655445083760167, -8.681278374889335]</td><td style=\"text-align: right;\">   0.180538</td><td>2022-07-07 17:39:34.610881</td></tr>\\n<tr><td>M    </td><td>[&#x27;length&#x27;, &#x27;shucked_weight&#x27;]</td><td>[23.788185330232736, -6.668176274823593]</td><td style=\"text-align: right;\">   0.303382</td><td>2022-07-07 17:39:34.611556</td></tr>\\n<tr><td>I    </td><td>[&#x27;length&#x27;, &#x27;shucked_weight&#x27;]</td><td>[15.306253695675569, 0.6961453148775523]</td><td style=\"text-align: right;\">   1.23322 </td><td>2022-07-07 17:39:34.616763</td></tr>\\n</tbody>\\n</table>'"
      ]
     },
     "execution_count": 14,
     "metadata": {},
     "output_type": "execute_result"
    }
   ],
   "source": [
    "display(plc_linreg_fitted[[\"sex\", \"col_nm\", \"coef\", \"intercept\", \"created_dt\"]])"
   ]
  },
  {
   "cell_type": "markdown",
   "metadata": {},
   "source": [
    "We have two versions of union:\n",
    "- The first one we can define two target lists for two tables to join inside the union function (if we need to rename columns or select specific rows)\n",
    "- The second one we don't support target list selection, the user needs to do all the preprocessing on two tables before union them (rename, column selection, ...)"
   ]
  },
  {
   "cell_type": "code",
   "execution_count": 15,
   "metadata": {
    "pycharm": {
     "name": "#%%\n"
    }
   },
   "outputs": [
    {
     "data": {
      "text/html": [
       "<table>\n",
       "<thead>\n",
       "<tr><th>sex  </th><th>col_nm        </th><th style=\"text-align: right;\">     coef</th></tr>\n",
       "</thead>\n",
       "<tbody>\n",
       "<tr><td>F    </td><td>shucked_weight</td><td style=\"text-align: right;\">-8.11133 </td></tr>\n",
       "<tr><td>I    </td><td>shucked_weight</td><td style=\"text-align: right;\"> 0.486813</td></tr>\n",
       "<tr><td>F    </td><td>length        </td><td style=\"text-align: right;\">25.6108  </td></tr>\n",
       "<tr><td>M    </td><td>length        </td><td style=\"text-align: right;\">23.1582  </td></tr>\n",
       "<tr><td>M    </td><td>intercept     </td><td style=\"text-align: right;\"> 0.280546</td></tr>\n",
       "<tr><td>I    </td><td>intercept     </td><td style=\"text-align: right;\"> 1.10943 </td></tr>\n",
       "<tr><td>M    </td><td>shucked_weight</td><td style=\"text-align: right;\">-6.57603 </td></tr>\n",
       "<tr><td>I    </td><td>length        </td><td style=\"text-align: right;\">14.9034  </td></tr>\n",
       "<tr><td>F    </td><td>intercept     </td><td style=\"text-align: right;\"> 0.144295</td></tr>\n",
       "</tbody>\n",
       "</table>"
      ],
      "text/plain": [
       "'<table>\\n<thead>\\n<tr><th>sex  </th><th>col_nm        </th><th style=\"text-align: right;\">     coef</th></tr>\\n</thead>\\n<tbody>\\n<tr><td>F    </td><td>shucked_weight</td><td style=\"text-align: right;\">-8.11133 </td></tr>\\n<tr><td>I    </td><td>shucked_weight</td><td style=\"text-align: right;\"> 0.486813</td></tr>\\n<tr><td>F    </td><td>length        </td><td style=\"text-align: right;\">25.6108  </td></tr>\\n<tr><td>M    </td><td>length        </td><td style=\"text-align: right;\">23.1582  </td></tr>\\n<tr><td>M    </td><td>intercept     </td><td style=\"text-align: right;\"> 0.280546</td></tr>\\n<tr><td>I    </td><td>intercept     </td><td style=\"text-align: right;\"> 1.10943 </td></tr>\\n<tr><td>M    </td><td>shucked_weight</td><td style=\"text-align: right;\">-6.57603 </td></tr>\\n<tr><td>I    </td><td>length        </td><td style=\"text-align: right;\">14.9034  </td></tr>\\n<tr><td>F    </td><td>intercept     </td><td style=\"text-align: right;\"> 0.144295</td></tr>\\n</tbody>\\n</table>'"
      ]
     },
     "execution_count": 15,
     "metadata": {},
     "output_type": "execute_result"
    }
   ],
   "source": [
    "# SELECT sex, UNNEST(col_nm) AS col_nm, UNNEST(coef) AS coef\n",
    "# FROM plc_linreg_fitted\n",
    "# UNION\n",
    "# SELECT sex, 'intercept' AS col_nm, intercept AS coef\n",
    "# FROM plc_linreg_fitted;\n",
    "\n",
    "unnest = gp.function(\"unnest\", db)\n",
    "\n",
    "display(\n",
    "        plc_linreg_fitted.union(\n",
    "                plc_linreg_fitted,\n",
    "                my_targets = [\n",
    "                        plc_linreg_fitted[\"sex\"],\n",
    "                        unnest(plc_linreg_fitted[\"col_nm\"]).rename(\"col_nm\"),\n",
    "                        unnest(plc_linreg_fitted[\"coef\"]).rename(\"coef\"),\n",
    "                ],\n",
    "                other_targets = [\n",
    "                        plc_linreg_fitted[\"sex\"],\n",
    "                        \"'intercept' AS col_name\",\n",
    "                        plc_linreg_fitted[\"intercept\"].rename(\"coef\"),\n",
    "                ]\n",
    "        )\n",
    ")"
   ]
  },
  {
   "cell_type": "code",
   "execution_count": 16,
   "metadata": {
    "pycharm": {
     "name": "#%%\n"
    }
   },
   "outputs": [
    {
     "data": {
      "text/html": [
       "<table>\n",
       "<thead>\n",
       "<tr><th>sex  </th><th>col_nm        </th><th style=\"text-align: right;\">      coef</th></tr>\n",
       "</thead>\n",
       "<tbody>\n",
       "<tr><td>I    </td><td>shucked_weight</td><td style=\"text-align: right;\">-0.215205 </td></tr>\n",
       "<tr><td>M    </td><td>shucked_weight</td><td style=\"text-align: right;\">-6.88948  </td></tr>\n",
       "<tr><td>M    </td><td>length        </td><td style=\"text-align: right;\">23.9315   </td></tr>\n",
       "<tr><td>I    </td><td>intercept     </td><td style=\"text-align: right;\"> 1.04682  </td></tr>\n",
       "<tr><td>F    </td><td>intercept     </td><td style=\"text-align: right;\"> 0.239293 </td></tr>\n",
       "<tr><td>M    </td><td>intercept     </td><td style=\"text-align: right;\"> 0.0312261</td></tr>\n",
       "<tr><td>F    </td><td>shucked_weight</td><td style=\"text-align: right;\">-8.39858  </td></tr>\n",
       "<tr><td>I    </td><td>length        </td><td style=\"text-align: right;\">15.9479   </td></tr>\n",
       "<tr><td>F    </td><td>length        </td><td style=\"text-align: right;\">25.6955   </td></tr>\n",
       "</tbody>\n",
       "</table>"
      ],
      "text/plain": [
       "'<table>\\n<thead>\\n<tr><th>sex  </th><th>col_nm        </th><th style=\"text-align: right;\">      coef</th></tr>\\n</thead>\\n<tbody>\\n<tr><td>I    </td><td>shucked_weight</td><td style=\"text-align: right;\">-0.215205 </td></tr>\\n<tr><td>M    </td><td>shucked_weight</td><td style=\"text-align: right;\">-6.88948  </td></tr>\\n<tr><td>M    </td><td>length        </td><td style=\"text-align: right;\">23.9315   </td></tr>\\n<tr><td>I    </td><td>intercept     </td><td style=\"text-align: right;\"> 1.04682  </td></tr>\\n<tr><td>F    </td><td>intercept     </td><td style=\"text-align: right;\"> 0.239293 </td></tr>\\n<tr><td>M    </td><td>intercept     </td><td style=\"text-align: right;\"> 0.0312261</td></tr>\\n<tr><td>F    </td><td>shucked_weight</td><td style=\"text-align: right;\">-8.39858  </td></tr>\\n<tr><td>I    </td><td>length        </td><td style=\"text-align: right;\">15.9479   </td></tr>\\n<tr><td>F    </td><td>length        </td><td style=\"text-align: right;\">25.6955   </td></tr>\\n</tbody>\\n</table>'"
      ]
     },
     "execution_count": 16,
     "metadata": {},
     "output_type": "execute_result"
    }
   ],
   "source": [
    "# SELECT sex, UNNEST(col_nm) AS col_nm, UNNEST(coef) AS coef\n",
    "# FROM plc_linreg_fitted\n",
    "# UNION\n",
    "# SELECT sex, 'intercept' AS col_nm, intercept AS coef\n",
    "# FROM plc_linreg_fitted;\n",
    "\n",
    "plc_linreg_fitted_1 = plc_linreg_fitted[[\n",
    "                        plc_linreg_fitted[\"sex\"],\n",
    "                        unnest(plc_linreg_fitted[\"col_nm\"]).rename(\"col_nm\"),\n",
    "                        unnest(plc_linreg_fitted[\"coef\"]).rename(\"coef\")]\n",
    "                ]\n",
    "plc_linreg_fitted_2 = plc_linreg_fitted[[\n",
    "                        plc_linreg_fitted[\"sex\"],\n",
    "                        \"'intercept' AS col_name\",\n",
    "                        plc_linreg_fitted[\"intercept\"].rename(\"coef\")]\n",
    "                ]\n",
    "display(\n",
    "        plc_linreg_fitted_1.union(\n",
    "                plc_linreg_fitted_2\n",
    "        )\n",
    ")"
   ]
  },
  {
   "cell_type": "markdown",
   "metadata": {
    "pycharm": {
     "name": "#%% md\n"
    }
   },
   "source": [
    " # Prediction"
   ]
  },
  {
   "cell_type": "markdown",
   "metadata": {
    "pycharm": {
     "name": "#%% md\n"
    }
   },
   "source": [
    "## Currently can't support, because function can take care only one table at the time"
   ]
  },
  {
   "cell_type": "code",
   "execution_count": 17,
   "metadata": {
    "pycharm": {
     "name": "#%%\n"
    }
   },
   "outputs": [],
   "source": [
    "@gp.create_array_function\n",
    "def plc_linreg_pred_func(serialized_model: bytes, features: List[float]) -> List[float]:\n",
    "        # Deserialize the serialized model\n",
    "        import six\n",
    "        pickle = six.moves.cPickle\n",
    "        model = pickle.loads(serialized_model)\n",
    "\n",
    "        # Predict the target variable\n",
    "        y_pred = model.predict([features])\n",
    "\n",
    "        return y_pred[0]"
   ]
  },
  {
   "cell_type": "code",
   "execution_count": 18,
   "metadata": {
    "pycharm": {
     "name": "#%%\n"
    }
   },
   "outputs": [
    {
     "ename": "Exception",
     "evalue": "Cannot pass arguments from more than one tables",
     "output_type": "error",
     "traceback": [
      "\u001B[0;31m---------------------------------------------------------------------------\u001B[0m",
      "\u001B[0;31mException\u001B[0m                                 Traceback (most recent call last)",
      "Input \u001B[0;32mIn [18]\u001B[0m, in \u001B[0;36m<cell line: 1>\u001B[0;34m()\u001B[0m\n\u001B[0;32m----> 1\u001B[0m plc_linreg_pred \u001B[38;5;241m=\u001B[39m \u001B[43mplc_linreg_pred_func\u001B[49m\u001B[43m(\u001B[49m\n\u001B[1;32m      2\u001B[0m \u001B[43m                                \u001B[49m\u001B[43mplc_linreg_fitted\u001B[49m\u001B[43m[\u001B[49m\u001B[38;5;124;43m\"\u001B[39;49m\u001B[38;5;124;43mserialized_linreg_model\u001B[39;49m\u001B[38;5;124;43m\"\u001B[39;49m\u001B[43m]\u001B[49m\u001B[43m,\u001B[49m\n\u001B[1;32m      3\u001B[0m \u001B[43m                                \u001B[49m\u001B[43mabalone_test\u001B[49m\u001B[43m[\u001B[49m\u001B[38;5;124;43m\"\u001B[39;49m\u001B[38;5;124;43mlength\u001B[39;49m\u001B[38;5;124;43m\"\u001B[39;49m\u001B[43m]\u001B[49m\u001B[43m,\u001B[49m\n\u001B[1;32m      4\u001B[0m \u001B[43m                                \u001B[49m\u001B[43mabalone_test\u001B[49m\u001B[43m[\u001B[49m\u001B[38;5;124;43m\"\u001B[39;49m\u001B[38;5;124;43mshucked_weight\u001B[39;49m\u001B[38;5;124;43m\"\u001B[39;49m\u001B[43m]\u001B[49m\u001B[43m,\u001B[49m\n\u001B[1;32m      5\u001B[0m \u001B[43m                                \u001B[49m\u001B[43mgroup_by\u001B[49m\u001B[38;5;241;43m=\u001B[39;49m\u001B[43m[\u001B[49m\u001B[38;5;124;43m\"\u001B[39;49m\u001B[38;5;124;43msex\u001B[39;49m\u001B[38;5;124;43m\"\u001B[39;49m\u001B[43m]\u001B[49m\n\u001B[1;32m      6\u001B[0m \u001B[43m)\u001B[49m\u001B[38;5;241m.\u001B[39mto_table()\n",
      "File \u001B[0;32m~/gpdev/GreenplumPython/greenplumpython/func.py:232\u001B[0m, in \u001B[0;36mcreate_array_function.<locals>.make_function_call\u001B[0;34m(group_by, as_name, db, *args)\u001B[0m\n\u001B[1;32m    225\u001B[0m \u001B[38;5;129m@functools\u001B[39m\u001B[38;5;241m.\u001B[39mwraps(func)\n\u001B[1;32m    226\u001B[0m \u001B[38;5;28;01mdef\u001B[39;00m \u001B[38;5;21mmake_function_call\u001B[39m(\n\u001B[1;32m    227\u001B[0m     \u001B[38;5;241m*\u001B[39margs: Expr,\n\u001B[0;32m   (...)\u001B[0m\n\u001B[1;32m    230\u001B[0m     db: Optional[Database] \u001B[38;5;241m=\u001B[39m \u001B[38;5;28;01mNone\u001B[39;00m,\n\u001B[1;32m    231\u001B[0m ) \u001B[38;5;241m-\u001B[39m\u001B[38;5;241m>\u001B[39m ArrayFunctionCall:\n\u001B[0;32m--> 232\u001B[0m     array_func_call \u001B[38;5;241m=\u001B[39m \u001B[43mcreate_function\u001B[49m\u001B[43m(\u001B[49m\n\u001B[1;32m    233\u001B[0m \u001B[43m        \u001B[49m\u001B[43mfunc\u001B[49m\u001B[43m,\u001B[49m\u001B[43m \u001B[49m\u001B[43mname\u001B[49m\u001B[43m,\u001B[49m\u001B[43m \u001B[49m\u001B[43mschema\u001B[49m\u001B[43m,\u001B[49m\u001B[43m \u001B[49m\u001B[43mtemp\u001B[49m\u001B[43m,\u001B[49m\u001B[43m \u001B[49m\u001B[43mreplace_if_exists\u001B[49m\u001B[43m,\u001B[49m\u001B[43m \u001B[49m\u001B[43mlanguage_handler\u001B[49m\n\u001B[1;32m    234\u001B[0m \u001B[43m    \u001B[49m\u001B[43m)\u001B[49m\u001B[43m(\u001B[49m\u001B[38;5;241;43m*\u001B[39;49m\u001B[43margs\u001B[49m\u001B[43m,\u001B[49m\u001B[43m \u001B[49m\u001B[43mas_name\u001B[49m\u001B[38;5;241;43m=\u001B[39;49m\u001B[43mas_name\u001B[49m\u001B[43m,\u001B[49m\u001B[43m \u001B[49m\u001B[43mdb\u001B[49m\u001B[38;5;241;43m=\u001B[39;49m\u001B[43mdb\u001B[49m\u001B[43m)\u001B[49m\n\u001B[1;32m    235\u001B[0m     \u001B[38;5;28;01mreturn\u001B[39;00m ArrayFunctionCall(\n\u001B[1;32m    236\u001B[0m         array_func_call\u001B[38;5;241m.\u001B[39mqualified_func_name,\n\u001B[1;32m    237\u001B[0m         args\u001B[38;5;241m=\u001B[39margs,\n\u001B[0;32m   (...)\u001B[0m\n\u001B[1;32m    241\u001B[0m         is_return_comp\u001B[38;5;241m=\u001B[39marray_func_call\u001B[38;5;241m.\u001B[39mis_return_comp,\n\u001B[1;32m    242\u001B[0m     )\n",
      "File \u001B[0;32m~/gpdev/GreenplumPython/greenplumpython/func.py:162\u001B[0m, in \u001B[0;36mcreate_function.<locals>.make_function_call\u001B[0;34m(as_name, db, *args)\u001B[0m\n\u001B[1;32m    151\u001B[0m db\u001B[38;5;241m.\u001B[39mexecute(\n\u001B[1;32m    152\u001B[0m     (\n\u001B[1;32m    153\u001B[0m         \u001B[38;5;124mf\u001B[39m\u001B[38;5;124m\"\u001B[39m\u001B[38;5;124mCREATE \u001B[39m\u001B[38;5;132;01m{\u001B[39;00mor_replace\u001B[38;5;132;01m}\u001B[39;00m\u001B[38;5;124m FUNCTION \u001B[39m\u001B[38;5;132;01m{\u001B[39;00mqualified_func_name\u001B[38;5;132;01m}\u001B[39;00m\u001B[38;5;124m (\u001B[39m\u001B[38;5;132;01m{\u001B[39;00mfunc_args_string\u001B[38;5;132;01m}\u001B[39;00m\u001B[38;5;124m) \u001B[39m\u001B[38;5;124m\"\u001B[39m\n\u001B[0;32m   (...)\u001B[0m\n\u001B[1;32m    159\u001B[0m     has_results\u001B[38;5;241m=\u001B[39m\u001B[38;5;28;01mFalse\u001B[39;00m,\n\u001B[1;32m    160\u001B[0m )\n\u001B[1;32m    161\u001B[0m is_return_comp \u001B[38;5;241m=\u001B[39m func_sig\u001B[38;5;241m.\u001B[39mreturn_annotation \u001B[38;5;129;01mnot\u001B[39;00m \u001B[38;5;129;01min\u001B[39;00m primitive_type_map\n\u001B[0;32m--> 162\u001B[0m \u001B[38;5;28;01mreturn\u001B[39;00m \u001B[43mFunctionCall\u001B[49m\u001B[43m(\u001B[49m\n\u001B[1;32m    163\u001B[0m \u001B[43m    \u001B[49m\u001B[43mqualified_func_name\u001B[49m\u001B[43m,\u001B[49m\u001B[43m \u001B[49m\u001B[43margs\u001B[49m\u001B[38;5;241;43m=\u001B[39;49m\u001B[43margs\u001B[49m\u001B[43m,\u001B[49m\u001B[43m \u001B[49m\u001B[43mas_name\u001B[49m\u001B[38;5;241;43m=\u001B[39;49m\u001B[43mas_name\u001B[49m\u001B[43m,\u001B[49m\u001B[43m \u001B[49m\u001B[43mdb\u001B[49m\u001B[38;5;241;43m=\u001B[39;49m\u001B[43mdb\u001B[49m\u001B[43m,\u001B[49m\u001B[43m \u001B[49m\u001B[43mis_return_comp\u001B[49m\u001B[38;5;241;43m=\u001B[39;49m\u001B[43mis_return_comp\u001B[49m\n\u001B[1;32m    164\u001B[0m \u001B[43m\u001B[49m\u001B[43m)\u001B[49m\n",
      "File \u001B[0;32m~/gpdev/GreenplumPython/greenplumpython/func.py:30\u001B[0m, in \u001B[0;36mFunctionCall.__init__\u001B[0;34m(self, func_name, args, group_by, as_name, db, is_return_comp)\u001B[0m\n\u001B[1;32m     28\u001B[0m             table \u001B[38;5;241m=\u001B[39m arg\u001B[38;5;241m.\u001B[39mtable\n\u001B[1;32m     29\u001B[0m         \u001B[38;5;28;01melif\u001B[39;00m table\u001B[38;5;241m.\u001B[39mname \u001B[38;5;241m!=\u001B[39m arg\u001B[38;5;241m.\u001B[39mtable\u001B[38;5;241m.\u001B[39mname:\n\u001B[0;32m---> 30\u001B[0m             \u001B[38;5;28;01mraise\u001B[39;00m \u001B[38;5;167;01mException\u001B[39;00m(\u001B[38;5;124m\"\u001B[39m\u001B[38;5;124mCannot pass arguments from more than one tables\u001B[39m\u001B[38;5;124m\"\u001B[39m)\n\u001B[1;32m     31\u001B[0m \u001B[38;5;28msuper\u001B[39m()\u001B[38;5;241m.\u001B[39m\u001B[38;5;21m__init__\u001B[39m(as_name, table\u001B[38;5;241m=\u001B[39mtable, db\u001B[38;5;241m=\u001B[39mdb)\n\u001B[1;32m     32\u001B[0m \u001B[38;5;28mself\u001B[39m\u001B[38;5;241m.\u001B[39m_func_name \u001B[38;5;241m=\u001B[39m func_name\n",
      "\u001B[0;31mException\u001B[0m: Cannot pass arguments from more than one tables"
     ]
    }
   ],
   "source": [
    "plc_linreg_pred = plc_linreg_pred_func(\n",
    "                                plc_linreg_fitted[\"serialized_linreg_model\"],\n",
    "                                abalone_test[\"length\"],\n",
    "                                abalone_test[\"shucked_weight\"],\n",
    "                                group_by=[\"sex\"]\n",
    ").to_table()"
   ]
  },
  {
   "cell_type": "code",
   "execution_count": null,
   "metadata": {
    "pycharm": {
     "name": "#%%\n"
    }
   },
   "outputs": [],
   "source": []
  }
 ],
 "metadata": {
  "kernelspec": {
   "display_name": "Python 3 (ipykernel)",
   "language": "python",
   "name": "python3"
  },
  "language_info": {
   "codemirror_mode": {
    "name": "ipython",
    "version": 3
   },
   "file_extension": ".py",
   "mimetype": "text/x-python",
   "name": "python",
   "nbconvert_exporter": "python",
   "pygments_lexer": "ipython3",
   "version": "3.8.10"
  }
 },
 "nbformat": 4,
 "nbformat_minor": 1
}